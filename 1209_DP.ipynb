{
  "nbformat": 4,
  "nbformat_minor": 0,
  "metadata": {
    "colab": {
      "name": "Untitled3.ipynb",
      "provenance": [],
      "collapsed_sections": [],
      "authorship_tag": "ABX9TyOlmfQ6hKQ6oXXfHUCq3Q9B",
      "include_colab_link": true
    },
    "kernelspec": {
      "name": "python3",
      "display_name": "Python 3"
    }
  },
  "cells": [
    {
      "cell_type": "markdown",
      "metadata": {
        "id": "view-in-github",
        "colab_type": "text"
      },
      "source": [
        "<a href=\"https://colab.research.google.com/github/YuTTsai/S10755018-Sort/blob/master/1209_DP.ipynb\" target=\"_parent\"><img src=\"https://colab.research.google.com/assets/colab-badge.svg\" alt=\"Open In Colab\"/></a>"
      ]
    },
    {
      "cell_type": "code",
      "metadata": {
        "colab": {
          "base_uri": "https://localhost:8080/"
        },
        "id": "igB9SqYjWHFR",
        "outputId": "0bdab057-6dd6-47d1-86ed-d0b8292732ec"
      },
      "source": [
        "#輸入一數字，獲得鐵條賣價最高的方法 #PPT價目表  #https://www.itread01.com/content/1547164838.html\r\n",
        "\r\n",
        "#長度i\r\n",
        "#價格pi\r\n",
        "#所有可能的結果r\r\n",
        "#切為 k （1≤k≤n）段，最優切割方案為：n = i1 + i2 + i3 +...+ ik\r\n",
        "#切割的長度分別為：i1、i2 、i3 、...、ik，得到的最大收益：Rn = pi1  +  pi2  +  pi3  +...+  pik\r\n",
        "\r\n",
        "def BottomUpCutRod(p, n):\r\n",
        "    r = [0]*(n+1)  #n+1個[0] n+1=輸入的數字+1\r\n",
        "    for i in range(1, n+1): #若輸入長度為0 回傳價值為0\r\n",
        "        if n == 0:\r\n",
        "            return 0\r\n",
        "        q =0 #先設成沒有價值(0)\r\n",
        "        for j in range(1, i+1): #範圍到長度i+1\r\n",
        "            q = max(q, p[j]+r[i-j])   #q是所有可能的結果中最大的  #p[i]=長度i時的價錢 r[i-j]=輸入的長度-目前j的長度\r\n",
        "                                            #p[2]=長度1時的價錢  r[2-1]=長度為2時-目前1的長度\r\n",
        "            \r\n",
        "            r[i] = q #r[i]=最大價值q\r\n",
        "    return r[n],r\r\n",
        "p=[0,1,5,8,9,10,17,17,20,24,30] #串列長度10，所以不能輸入大於10的數字\r\n",
        "a=int(input(\"請輸入10以內的:\")) #改成可以輸入的要用int\r\n",
        "print(BottomUpCutRod(p, a))   "
      ],
      "execution_count": 1,
      "outputs": [
        {
          "output_type": "stream",
          "text": [
            "請輸入10以內的:5\n",
            "(13, [0, 1, 5, 8, 10, 13])\n"
          ],
          "name": "stdout"
        }
      ]
    }
  ]
}