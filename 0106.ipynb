{
  "nbformat": 4,
  "nbformat_minor": 0,
  "metadata": {
    "colab": {
      "name": "0106.ipynb",
      "provenance": [],
      "authorship_tag": "ABX9TyNmjDPdoM800MkKpm/j217n",
      "include_colab_link": true
    },
    "kernelspec": {
      "name": "python3",
      "display_name": "Python 3"
    }
  },
  "cells": [
    {
      "cell_type": "markdown",
      "metadata": {
        "id": "view-in-github",
        "colab_type": "text"
      },
      "source": [
        "<a href=\"https://colab.research.google.com/github/YuTTsai/S10755018-Sort/blob/master/0106.ipynb\" target=\"_parent\"><img src=\"https://colab.research.google.com/assets/colab-badge.svg\" alt=\"Open In Colab\"/></a>"
      ]
    },
    {
      "cell_type": "code",
      "metadata": {
        "colab": {
          "base_uri": "https://localhost:8080/"
        },
        "id": "SsvVF-hXmv0P",
        "outputId": "1ddde5e1-bce6-42fe-a473-92dd2400a778"
      },
      "source": [
        "#克魯斯克爾演算法(Kruskal’s algorithm)\r\n",
        "#https://www.itread01.com/content/1549051928.html\r\n",
        "class DisjointSet(dict):\r\n",
        "    '''不相交集'''\r\n",
        "\r\n",
        "    def __init__(self, dict):\r\n",
        "        pass\r\n",
        "\r\n",
        "    def add(self, item):\r\n",
        "        self[item] = item\r\n",
        "\r\n",
        "    def find(self, item):\r\n",
        "        if self[item] != item:\r\n",
        "            self[item] = self.find(self[item])\r\n",
        "        return self[item]\r\n",
        "\r\n",
        "    def unionset(self, item1, item2):\r\n",
        "        self[item2] = self[item1]\r\n",
        "\r\n",
        "\r\n",
        "def Kruskal_1(nodes, edges):\r\n",
        "    '''基於不相交集實現Kruskal演算法'''\r\n",
        "    forest = DisjointSet(nodes)\r\n",
        "    MST = []\r\n",
        "    for item in nodes:\r\n",
        "        print(item)\r\n",
        "        forest.add(item)\r\n",
        "    edges = sorted(edges, key=lambda element: element[2])\r\n",
        "    num_sides = len(nodes)-1  # 最小生成樹的邊數等於頂點數減一\r\n",
        "    for e in edges:\r\n",
        "        node1, node2, _ = e\r\n",
        "        parent1 = forest.find(node1)\r\n",
        "        parent2 = forest.find(node2)\r\n",
        "        if parent1 != parent2:\r\n",
        "            MST.append(e)\r\n",
        "            num_sides -= 1\r\n",
        "            if num_sides == 0:\r\n",
        "                return MST\r\n",
        "            else:\r\n",
        "                forest.unionset(parent1, parent2)\r\n",
        "    pass\r\n",
        "\r\n",
        "\r\n",
        "def Kruskal(nodes, edges):\r\n",
        "    ''' Kruskal 無向圖生成最小生成樹 '''\r\n",
        "    all_nodes = nodes  # set(nodes)\r\n",
        "    used_nodes = set()\r\n",
        "    MST = []\r\n",
        "    edges = sorted(edges, key=lambda element: element[2], reverse=True)\r\n",
        "    # 對所有的邊按權重升序排列\r\n",
        "    while used_nodes != all_nodes and edges:\r\n",
        "        element = edges.pop(-1)\r\n",
        "        if element[0] in used_nodes and element[1] in used_nodes:\r\n",
        "            continue\r\n",
        "        MST.append(element)\r\n",
        "        used_nodes.update(element[:2])\r\n",
        "        # print(used_nodes)\r\n",
        "    return MST\r\n",
        "\r\n",
        "\r\n",
        "def main():\r\n",
        "    nodes = set(list('ABCDEF'))\r\n",
        "    edges = [(\"A\", \"B\", 7), (\"A\", \"C\", 15),\r\n",
        "             (\"A\", \"F\", 2), (\"B\", \"E\", 8),\r\n",
        "             (\"C\", \"D\", 5), (\"C\", \"F\", 3),\r\n",
        "             (\"D\", \"E\",11), (\"D\", \"F\", 6),\r\n",
        "             (\"E\", \"F\", 9)]\r\n",
        "    print(\"\\n\\nThe undirected graph is :\", edges)\r\n",
        "    print(\"\\n\\nThe minimum spanning tree by Kruskal is : \")\r\n",
        "    print(Kruskal_1(nodes, edges))\r\n",
        "\r\n",
        "\r\n",
        "if __name__ == '__main__':\r\n",
        "    main()"
      ],
      "execution_count": 1,
      "outputs": [
        {
          "output_type": "stream",
          "text": [
            "\n",
            "\n",
            "The undirected graph is : [('A', 'B', 7), ('A', 'C', 15), ('A', 'F', 2), ('B', 'E', 8), ('C', 'D', 5), ('C', 'F', 3), ('D', 'E', 11), ('D', 'F', 6), ('E', 'F', 9)]\n",
            "\n",
            "\n",
            "The minimum spanning tree by Kruskal is : \n",
            "A\n",
            "D\n",
            "C\n",
            "B\n",
            "E\n",
            "F\n",
            "[('A', 'F', 2), ('C', 'F', 3), ('C', 'D', 5), ('A', 'B', 7), ('B', 'E', 8)]\n"
          ],
          "name": "stdout"
        }
      ]
    },
    {
      "cell_type": "code",
      "metadata": {
        "colab": {
          "base_uri": "https://localhost:8080/"
        },
        "id": "XAFQz8FDm1pm",
        "outputId": "13aedc46-59ad-4a74-d1f9-e0c456fe84f5"
      },
      "source": [
        "#普林演算法(Prim’s algorithm)\r\n",
        "#https://www.itread01.com/content/1543636262.html\r\n",
        "\r\n",
        "\r\n",
        "def prim(graph):\r\n",
        "    n = len(graph)\r\n",
        "    costs = [99999 for _ in range(n)]  # 父結點到該結點的邊權值\r\n",
        "    costs[0] = 0\r\n",
        "    parents = [-1 for _ in range(n)]\r\n",
        "    visited = [False for _ in range(n)]\r\n",
        "    t = []\r\n",
        "    while len(t) < n:\r\n",
        "        # 在costs找最短邊，把該最短邊的結點加入t，標記為已訪問\r\n",
        "        minCost = 99999\r\n",
        "        minNode = None\r\n",
        "        for i in range(n):\r\n",
        "            if not visited[i] and costs[i] < minCost:\r\n",
        "                minCost = costs[i]\r\n",
        "                minNode = i\r\n",
        "        t.append(minNode)\r\n",
        "        visited[minNode] = True\r\n",
        "\r\n",
        "        # 遍歷該結點的邊，更新最短邊\r\n",
        "        for edge in graph[minNode]:\r\n",
        "            if not visited[edge[0]] and edge[1] < costs[edge[0]]:\r\n",
        "                costs[edge[0]] = edge[1]\r\n",
        "                parents[edge[0]] = minNode\r\n",
        "    return costs, parents\r\n",
        "\r\n",
        "\r\n",
        "data = [\r\n",
        "    [2, 0, 1],\r\n",
        "    [2, 1, 5],\r\n",
        "    [2, 3, 5],\r\n",
        "    [2, 4, 5],\r\n",
        "    [2, 5, 4],\r\n",
        "    [0, 1, 6],\r\n",
        "    [0, 3, 5],\r\n",
        "    [4, 1, 3],\r\n",
        "    [4, 5, 6],\r\n",
        "    [5, 3, 2],\r\n",
        "]\r\n",
        "\r\n",
        "# 構造鄰接表\r\n",
        "n = 6\r\n",
        "graph = [[] for _ in range(n)]\r\n",
        "for edge in data:\r\n",
        "    graph[edge[0]].append([edge[1], edge[2]])\r\n",
        "    graph[edge[1]].append([edge[0], edge[2]])\r\n",
        "\r\n",
        "# 最小生成樹MST\r\n",
        "print('MST')\r\n",
        "costs, parents = prim(graph)\r\n",
        "print('costs:', costs)\r\n",
        "print('parents', parents)\r\n",
        "total = 0\r\n",
        "for cost in costs:\r\n",
        "    total += cost\r\n",
        "print('Total cost of MST:', total)\r\n",
        "\r\n",
        "# 執行結果\r\n",
        "# MST\r\n",
        "# costs: [0, 5, 1, 2, 3, 4]\r\n",
        "# parents [-1, 2, 0, 5, 1, 2]\r\n",
        "# Total cost of MST: 15\r\n"
      ],
      "execution_count": null,
      "outputs": [
        {
          "output_type": "stream",
          "text": [
            "MST\n",
            "costs: [0, 5, 1, 2, 3, 4]\n",
            "parents [-1, 2, 0, 5, 1, 2]\n",
            "Total cost of MST: 15\n"
          ],
          "name": "stdout"
        }
      ]
    },
    {
      "cell_type": "code",
      "metadata": {
        "id": "n32K6MDFm9Xg"
      },
      "source": [
        ""
      ],
      "execution_count": null,
      "outputs": []
    }
  ]
}