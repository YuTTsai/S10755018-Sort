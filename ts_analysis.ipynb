{
  "nbformat": 4,
  "nbformat_minor": 0,
  "metadata": {
    "colab": {
      "name": "ts_analysis.ipynb",
      "provenance": [],
      "authorship_tag": "ABX9TyOs4zsvf/h5WH0sap8HUg6p",
      "include_colab_link": true
    },
    "kernelspec": {
      "name": "python3",
      "display_name": "Python 3"
    }
  },
  "cells": [
    {
      "cell_type": "markdown",
      "metadata": {
        "id": "view-in-github",
        "colab_type": "text"
      },
      "source": [
        "<a href=\"https://colab.research.google.com/github/YuTTsai/S10755018-Sort/blob/master/ts_analysis.ipynb\" target=\"_parent\"><img src=\"https://colab.research.google.com/assets/colab-badge.svg\" alt=\"Open In Colab\"/></a>"
      ]
    },
    {
      "cell_type": "code",
      "metadata": {
        "id": "zBZZXAlQ3XXE",
        "outputId": "9e83e793-9d12-4d02-d5a9-4e5fde22b624",
        "colab": {
          "base_uri": "https://localhost:8080/"
        }
      },
      "source": [
        "\n",
        "#如何判斷某年是不是閏年？ 四年一次\n",
        "#⽅法⼀(時間換空間)：\n",
        "#寫⼀個演算法，每給⼀個年份，就可以通過該演算法計算得到是否閏年的結果\n",
        "\n",
        "a=int(input(\"請輸入年份:\")) #輸入值轉為整數\n",
        "print()\n",
        "\n",
        "if ((a%4 ==0)and(a%100!=0))or((a%4 ==0)and(a%400==0)):\n",
        "  print(\"%d年是閏年\" %a)  #%d輸入在字串中,%輸入的變數 可以呈現輸入的值 \n",
        "else:\n",
        "  print(\"%d年不是閏年\" %a)\n",
        "\n"
      ],
      "execution_count": 22,
      "outputs": [
        {
          "output_type": "stream",
          "text": [
            "請輸入年份:1900\n",
            "\n",
            "1900年不是閏年\n"
          ],
          "name": "stdout"
        }
      ]
    },
    {
      "cell_type": "code",
      "metadata": {
        "id": "HVHtiyDd8wnx",
        "outputId": "8e01fded-97c4-4bbf-b7af-ceac0727ef23",
        "colab": {
          "base_uri": "https://localhost:8080/"
        }
      },
      "source": [
        "#如何判斷某年是不是閏年？ 四年一次\n",
        "#⽅法⼆(空間換時間)：\n",
        "#先建立⼀個所有年份的陣列，然後把所有的年份按下標的數字對應；\n",
        "#如果是閏年，則此陣列元素的值是1，如果不是元素的值則為0。\n",
        "#這樣，所謂的判斷某⼀年是否為閏年就變成了查詢這個陣列某⼀個元素的值的問題\n",
        "\n",
        "#y=year.append(int(x+1))\n",
        "\n",
        "year=[] #建立空串列\n",
        "\n",
        "for x in range(1999,2040):\n",
        "  n=x+1            #1999+1 從第2000年算起\n",
        "  if ((a%4 ==0)and(a%100!=0))or((a%4 ==0)and(a%400==0)):\n",
        "    y=year.append(int(x+1))\n",
        "  else:\n",
        "    continue\n",
        "\n",
        "#print(year)\n",
        "\n",
        "a=int(input(\"請輸入2000-2040年之間的年份:\"))\n",
        "if (a<2000) or (a>2040):\n",
        "  a=int(input(\"請輸入2000-2040年之間的年份:\"))\n",
        "else:\n",
        "  if a in year:\n",
        "    print(\"%d年是閏年\" %a)\n",
        "  else:\n",
        "    print(\"%d年不是閏年\" %a)\n",
        "\n"
      ],
      "execution_count": 26,
      "outputs": [
        {
          "output_type": "stream",
          "text": [
            "請輸入2000-2040年之間的年份:2041\n",
            "請輸入2000-2040年之間的年份:2020\n"
          ],
          "name": "stdout"
        }
      ]
    }
  ]
}