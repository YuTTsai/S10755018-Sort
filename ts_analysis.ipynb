{
  "nbformat": 4,
  "nbformat_minor": 0,
  "metadata": {
    "colab": {
      "name": "ts_analysis.ipynb",
      "provenance": [],
      "authorship_tag": "ABX9TyPRGTR4C96lVEWpek4fYhle",
      "include_colab_link": true
    },
    "kernelspec": {
      "name": "python3",
      "display_name": "Python 3"
    }
  },
  "cells": [
    {
      "cell_type": "markdown",
      "metadata": {
        "id": "view-in-github",
        "colab_type": "text"
      },
      "source": [
        "<a href=\"https://colab.research.google.com/github/YuTTsai/S10755018-Sort/blob/master/ts_analysis.ipynb\" target=\"_parent\"><img src=\"https://colab.research.google.com/assets/colab-badge.svg\" alt=\"Open In Colab\"/></a>"
      ]
    },
    {
      "cell_type": "code",
      "metadata": {
        "id": "zBZZXAlQ3XXE",
        "outputId": "a58eb798-30d8-4bbc-990c-923c51db5a25",
        "colab": {
          "base_uri": "https://localhost:8080/"
        }
      },
      "source": [
        "\n",
        "#如何判斷某年是不是閏年？ 四年一次\n",
        "#⽅法⼀(時間換空間)：\n",
        "#寫⼀個演算法，每給⼀個年份，就可以通過該演算法計算得到是否閏年的結果\n",
        "a=int(input())\n",
        "print()\n",
        "\n",
        "\n",
        "#⽅法⼆(空間換時間)：\n",
        "#先建立⼀個所有年份的陣列，然後把所有的年份按下標的數字對應；\n",
        "#如果是閏年，則此陣列元素的值是1，如果不是元素的值則為0。\n",
        "#這樣，所謂的判斷某⼀年是否為閏年就變成了查詢這個陣列某⼀個元素的值的問題\n",
        "year=[]\n",
        "\n",
        "for x in range(0,10):\n",
        "  n=year.append(int(x+1))\n",
        "\n",
        "print(year)\n",
        "\n"
      ],
      "execution_count": 3,
      "outputs": [
        {
          "output_type": "stream",
          "text": [
            "a\n",
            "a\n",
            "[1, 2, 3, 4, 5, 6, 7, 8, 9, 10]\n"
          ],
          "name": "stdout"
        }
      ]
    }
  ]
}