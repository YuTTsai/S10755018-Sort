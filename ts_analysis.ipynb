{
  "nbformat": 4,
  "nbformat_minor": 0,
  "metadata": {
    "colab": {
      "name": "Untitled3.ipynb",
      "provenance": [],
      "authorship_tag": "ABX9TyOg2NqRHUCkeQaqx5da8Izs",
      "include_colab_link": true
    },
    "kernelspec": {
      "name": "python3",
      "display_name": "Python 3"
    }
  },
  "cells": [
    {
      "cell_type": "markdown",
      "metadata": {
        "id": "view-in-github",
        "colab_type": "text"
      },
      "source": [
        "<a href=\"https://colab.research.google.com/github/YuTTsai/S10755018-Sort/blob/master/ts_analysis.ipynb\" target=\"_parent\"><img src=\"https://colab.research.google.com/assets/colab-badge.svg\" alt=\"Open In Colab\"/></a>"
      ]
    },
    {
      "cell_type": "code",
      "metadata": {
        "id": "zBZZXAlQ3XXE"
      },
      "source": [
        "\n",
        "#如何判斷某年是不是閏年？\n",
        "#⽅法⼀(時間換空間)：\n",
        "#寫⼀個演算法，每給⼀個年份，就可以通過該演算法計算得到是否閏年的結果\n",
        "\n",
        "#⽅法⼆(空間換時間)：\n",
        "#先建立⼀個所有年份的陣列，然後把所有的年份按下標的數字對應；\n",
        "#如果是閏年，則此陣列元素的值是1，如果不是元素的值則為0。\n",
        "#這樣，所謂的判斷某⼀年是否為閏年就變成了查詢這個陣列某⼀個元素的值的問題"
      ],
      "execution_count": null,
      "outputs": []
    }
  ]
}