{
  "nbformat": 4,
  "nbformat_minor": 0,
  "metadata": {
    "colab": {
      "name": "Hanoi Tower.ipynb",
      "provenance": [],
      "authorship_tag": "ABX9TyNIT4kaSs40RhKHYCg9MRxb",
      "include_colab_link": true
    },
    "kernelspec": {
      "name": "python3",
      "display_name": "Python 3"
    }
  },
  "cells": [
    {
      "cell_type": "markdown",
      "metadata": {
        "id": "view-in-github",
        "colab_type": "text"
      },
      "source": [
        "<a href=\"https://colab.research.google.com/github/YuTTsai/S10755018-Sort/blob/master/Hanoi_Tower%2011/05.ipynb\" target=\"_parent\"><img src=\"https://colab.research.google.com/assets/colab-badge.svg\" alt=\"Open In Colab\"/></a>"
      ]
    },
    {
      "cell_type": "code",
      "metadata": {
        "id": "12nRKfhjZXgR",
        "outputId": "093e7dbf-a533-4dcd-c740-0d0ecd5cfd11",
        "colab": {
          "base_uri": "https://localhost:8080/"
        }
      },
      "source": [
        "d=[]\n",
        "def ho(n,a,b,c):\n",
        "  \n",
        "\n",
        "  if n==1:\n",
        "    print(\"從\",a,\"→\",c) \n",
        "    d.append(1)\n",
        "    \n",
        "      #這樣d是整數不會變字串\n",
        "    \n",
        "  else:\n",
        "    ho(n-1,a,c,b) \n",
        "    ho(1,a,b,c) \n",
        "    ho(n-1,b,a,c)\n",
        "    \n",
        "\n",
        "print(\"value=3\")\n",
        "value=3\n",
        "ho(value,\"A\",\"B\",\"C\")\n",
        "\n",
        "print(\"次數\",len(d),\"次\")   \n",
        "\n",
        "# https://www.cnblogs.com/lincappu/p/8146141.html\n"
      ],
      "execution_count": 72,
      "outputs": [
        {
          "output_type": "stream",
          "text": [
            "value=3\n",
            "從 A → C\n",
            "從 A → B\n",
            "從 C → B\n",
            "從 A → C\n",
            "從 B → A\n",
            "從 B → C\n",
            "從 A → C\n",
            "次數 7 次\n"
          ],
          "name": "stdout"
        }
      ]
    }
  ]
}