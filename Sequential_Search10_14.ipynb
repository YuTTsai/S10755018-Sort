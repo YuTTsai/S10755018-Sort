{
  "nbformat": 4,
  "nbformat_minor": 0,
  "metadata": {
    "colab": {
      "name": "Sequential Search10/14.ipynb",
      "provenance": [],
      "authorship_tag": "ABX9TyMI2QBu2Hi7q7f0FXrkTQzf",
      "include_colab_link": true
    },
    "kernelspec": {
      "name": "python3",
      "display_name": "Python 3"
    }
  },
  "cells": [
    {
      "cell_type": "markdown",
      "metadata": {
        "id": "view-in-github",
        "colab_type": "text"
      },
      "source": [
        "<a href=\"https://colab.research.google.com/github/YuTTsai/S10755018-Sort/blob/master/Sequential_Search10_14.ipynb\" target=\"_parent\"><img src=\"https://colab.research.google.com/assets/colab-badge.svg\" alt=\"Open In Colab\"/></a>"
      ]
    },
    {
      "cell_type": "code",
      "metadata": {
        "id": "ZZXh4L7wxVR9",
        "outputId": "84a6ccdb-ff8a-4b23-aa29-ed0cddbf10cb",
        "colab": {
          "base_uri": "https://localhost:8080/",
          "height": 33
        }
      },
      "source": [
        "data = [20,31,50,17,16,36,19,8]\n",
        "\n",
        "def sequential_search(data,key):\n",
        "  a = 0 #先設定a=False  記得要加在定義內\n",
        "  for i in data:\n",
        "    if i == key:\n",
        "      a=a+1    #使用Bool判斷\n",
        "      break\n",
        "  if a==1:       #在定義內判斷!!!\n",
        "    print(\"找到了\")\n",
        "  else:\n",
        "    print(\"找不到\")\n",
        "    \n",
        "\n",
        "     \n",
        "sequential_search(data,60)\n",
        "\n"
      ],
      "execution_count": 56,
      "outputs": [
        {
          "output_type": "stream",
          "text": [
            "找不到\n"
          ],
          "name": "stdout"
        }
      ]
    }
  ]
}