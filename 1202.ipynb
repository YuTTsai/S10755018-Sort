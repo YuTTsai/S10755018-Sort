{
  "nbformat": 4,
  "nbformat_minor": 0,
  "metadata": {
    "colab": {
      "name": "1202.ipynb",
      "provenance": [],
      "authorship_tag": "ABX9TyPQc2SvsgxBiOb8CHZijkgq",
      "include_colab_link": true
    },
    "kernelspec": {
      "name": "python3",
      "display_name": "Python 3"
    }
  },
  "cells": [
    {
      "cell_type": "markdown",
      "metadata": {
        "id": "view-in-github",
        "colab_type": "text"
      },
      "source": [
        "<a href=\"https://colab.research.google.com/github/YuTTsai/S10755018-Sort/blob/master/1202.ipynb\" target=\"_parent\"><img src=\"https://colab.research.google.com/assets/colab-badge.svg\" alt=\"Open In Colab\"/></a>"
      ]
    },
    {
      "cell_type": "code",
      "metadata": {
        "colab": {
          "base_uri": "https://localhost:8080/"
        },
        "id": "0T6TLwxKD2f4",
        "outputId": "e94e0cd5-3ede-4eed-ee74-9e2028bee874"
      },
      "source": [
        "#貪婪法執行過程\n",
        "#t=面額\n",
        "\n",
        "t = [25, 20, 5, 1]\n",
        "\n",
        "#n=多少錢\n",
        "\n",
        "def change(t, n):\n",
        "  m = [0 for _ in range(len(t))]\n",
        "  print(m)\n",
        "  for i, money in enumerate(t):\n",
        "    m[i] = n // money  #幾個\n",
        "    print(m[i])\n",
        "    n = n % money  #餘數\n",
        "    print(m,n)   #return回傳結果後會停止執行迴圈 #return :直接跳出結束那個函式，不會繼續執行迴圈外的程式 #https://dotblogs.com.tw/mis0800/2015/05/16/151316\n",
        "\n",
        "change(t, 41)\n",
        "\n",
        "#每個都算"
      ],
      "execution_count": 39,
      "outputs": [
        {
          "output_type": "stream",
          "text": [
            "[0, 0, 0, 0]\n",
            "1\n",
            "[1, 0, 0, 0] 16\n",
            "0\n",
            "[1, 0, 0, 0] 16\n",
            "3\n",
            "[1, 0, 3, 0] 1\n",
            "1\n",
            "[1, 0, 3, 1] 0\n"
          ],
          "name": "stdout"
        }
      ]
    },
    {
      "cell_type": "code",
      "metadata": {
        "colab": {
          "base_uri": "https://localhost:8080/"
        },
        "id": "G63oLFmCTsAI",
        "outputId": "dcd0ed92-3fc2-4e39-fd62-f0725600059b"
      },
      "source": [
        "#貪婪法輸入數字\n",
        "#t=面額\n",
        "\n",
        "t = [25, 20, 5, 1]\n",
        "\n",
        "#n=多少錢\n",
        "\n",
        "def change(t, n):\n",
        "  m = [0 for _ in range(len(t))]\n",
        "  print(m)\n",
        "  for i, money in enumerate(t):\n",
        "    m[i] = n // money  #幾個\n",
        "    print(m[i])\n",
        "    n = n % money  #餘數\n",
        "    print(m,n)   #return回傳結果後會停止執行迴圈 #return :直接跳出結束那個函式，不會繼續執行迴圈外的程式 #https://dotblogs.com.tw/mis0800/2015/05/16/151316\n",
        "\n",
        "print(\"請輸入數字:\")\n",
        "change(t, int(input()))\n",
        "\n",
        "#每個都算  \n"
      ],
      "execution_count": 42,
      "outputs": [
        {
          "output_type": "stream",
          "text": [
            "請輸入數字:\n",
            "41\n",
            "[0, 0, 0, 0]\n",
            "1\n",
            "[1, 0, 0, 0] 16\n",
            "0\n",
            "[1, 0, 0, 0] 16\n",
            "3\n",
            "[1, 0, 3, 0] 1\n",
            "1\n",
            "[1, 0, 3, 1] 0\n"
          ],
          "name": "stdout"
        }
      ]
    },
    {
      "cell_type": "code",
      "metadata": {
        "colab": {
          "base_uri": "https://localhost:8080/"
        },
        "id": "lqKsNbIZT1x1",
        "outputId": "957b74fc-3a7c-49c3-d0ca-91919b578337"
      },
      "source": [
        "###未完成#找零錢動態規劃  ###https://iter01.com/538372.html\n",
        "#t=面額\n",
        "\n",
        "def getMinCountsLoop(k, values):\n",
        "    memo = [-1] * (k + 1)\n",
        "    memo[0] = 0 # 初始化狀態\n",
        "    for item in range(1, k + 1):\n",
        "        minCount = k + 1 # 模擬無窮大\n",
        "        for iter in range(len(values)):\n",
        "            currentValue = values[iter]\n",
        "            # 如果當前面值大於硬幣總額，那麼跳過\n",
        "            if (currentValue > item):\n",
        "                continue\n",
        "\n",
        "            # 使用當前面值，得到剩餘硬幣總額\n",
        "            rest = item - currentValue\n",
        "            restCount = memo[rest]\n",
        "           \n",
        "            # 如果返回-1，說明組合不可信，跳過\n",
        "            if (restCount == -1):\n",
        "                continue\n",
        "\n",
        "            # 保留最小總額\n",
        "            itemCount = 1 + restCount\n",
        "            if (itemCount < minCount):\n",
        "                minCount = itemCount\n",
        "\n",
        "        # 如果是可用組合，記錄結果\n",
        "        if (minCount != k + 1):\n",
        "            memo[item] = minCount\n",
        "\n",
        "    return memo[k]\n",
        "\n",
        "def getMinCountsDPSol():\n",
        "    values = [25,20, 5,1] # 硬幣面值\n",
        "    total = 41 # 總值\n",
        "\n",
        "    # 求得最小的硬幣數量\n",
        "    return getMinCountsLoop(total, values) # 輸出答案\n",
        "\n",
        "def main():\n",
        "    result = getMinCountsDPSol()\n",
        "    print(result)\n",
        "\n",
        "if __name__ == \"__main__\":\n",
        "    main()\n",
        "\n",
        "#每個都算 #印出幾個硬幣 不用印選甚麼硬幣"
      ],
      "execution_count": 45,
      "outputs": [
        {
          "output_type": "stream",
          "text": [
            "3\n"
          ],
          "name": "stdout"
        }
      ]
    },
    {
      "cell_type": "code",
      "metadata": {
        "id": "moeCvBMwinvq"
      },
      "source": [
        "#最有價值貪婪"
      ],
      "execution_count": null,
      "outputs": []
    },
    {
      "cell_type": "code",
      "metadata": {
        "colab": {
          "base_uri": "https://localhost:8080/"
        },
        "id": "z3X7x_Y3ip1v",
        "outputId": "50c80cb3-e2bf-46c3-b5fd-026f5349f539"
      },
      "source": [
        "#最有價值動態理解 #印金額 或選甚麼\n",
        "def bag(n,c,w,v):\n",
        "\tres=[[-1 for j in range(c+1)] for i in range(n+1)]\n",
        "\tfor j in range(c+1):\n",
        "\t\tres[0][j]=0\n",
        "\tfor i in range(1,n+1):\n",
        "\t\tfor j in range(1,c+1):\n",
        "\t\t\tres[i][j]=res[i-1][j]\n",
        "\t\t\tif j>=w[i-1] and res[i][j]<res[i-1][j-w[i-1]]+v[i-1]:\n",
        "\t\t\t\tres[i][j]=res[i-1][j-w[i-1]]+v[i-1]\n",
        "\treturn res\n",
        "\n",
        "def show(n,c,w,res):\n",
        "\tprint('最大價值為:',res[n][c])\n",
        "\tx=[False for i in range(n)]\n",
        "\tj=c\n",
        "\tfor i in range(1,n+1):\n",
        "\t\tif res[i][j]>res[i-1][j]:\n",
        "\t\t\tx[i-1]=True\n",
        "\t\t\tj-=w[i-1]\n",
        "\tprint('選擇的物品為:')\n",
        "\tfor i in range(n):\n",
        "\t\tif x[i]:\n",
        "\t\t\tprint('第',i,'個,',end='')\n",
        "\tprint('')\n",
        "\n",
        "if __name__=='__main__':\n",
        "\tn=5\n",
        "\tc=10\n",
        "\tw=[5,1,4,3,2]\n",
        "\tv=[17000,35000,60000,9000,20000]\n",
        "\tres=bag(n,c,w,v)\n",
        "\tshow(n,c,w,res)"
      ],
      "execution_count": 49,
      "outputs": [
        {
          "output_type": "stream",
          "text": [
            "最大價值為: 123999\n",
            "選擇的物品為:\n",
            "第 0 個,第 1 個,第 2 個,\n"
          ],
          "name": "stdout"
        }
      ]
    }
  ]
}