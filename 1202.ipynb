{
  "nbformat": 4,
  "nbformat_minor": 0,
  "metadata": {
    "colab": {
      "name": "1202.ipynb",
      "provenance": [],
      "authorship_tag": "ABX9TyNpmRltECFIoJ1D7dlLw3jT",
      "include_colab_link": true
    },
    "kernelspec": {
      "name": "python3",
      "display_name": "Python 3"
    }
  },
  "cells": [
    {
      "cell_type": "markdown",
      "metadata": {
        "id": "view-in-github",
        "colab_type": "text"
      },
      "source": [
        "<a href=\"https://colab.research.google.com/github/YuTTsai/S10755018-Sort/blob/master/1202.ipynb\" target=\"_parent\"><img src=\"https://colab.research.google.com/assets/colab-badge.svg\" alt=\"Open In Colab\"/></a>"
      ]
    },
    {
      "cell_type": "code",
      "metadata": {
        "colab": {
          "base_uri": "https://localhost:8080/"
        },
        "id": "0T6TLwxKD2f4",
        "outputId": "e94e0cd5-3ede-4eed-ee74-9e2028bee874"
      },
      "source": [
        "#貪婪法執行過程\n",
        "#t=面額\n",
        "\n",
        "t = [25, 20, 5, 1]\n",
        "\n",
        "#n=多少錢\n",
        "\n",
        "def change(t, n):\n",
        "  m = [0 for _ in range(len(t))]\n",
        "  print(m)\n",
        "  for i, money in enumerate(t):\n",
        "    m[i] = n // money  #幾個\n",
        "    print(m[i])\n",
        "    n = n % money  #餘數\n",
        "    print(m,n)   #return回傳結果後會停止執行迴圈 #return :直接跳出結束那個函式，不會繼續執行迴圈外的程式 #https://dotblogs.com.tw/mis0800/2015/05/16/151316\n",
        "\n",
        "change(t, 41)\n",
        "\n",
        "#每個都算"
      ],
      "execution_count": null,
      "outputs": [
        {
          "output_type": "stream",
          "text": [
            "[0, 0, 0, 0]\n",
            "1\n",
            "[1, 0, 0, 0] 16\n",
            "0\n",
            "[1, 0, 0, 0] 16\n",
            "3\n",
            "[1, 0, 3, 0] 1\n",
            "1\n",
            "[1, 0, 3, 1] 0\n"
          ],
          "name": "stdout"
        }
      ]
    },
    {
      "cell_type": "code",
      "metadata": {
        "colab": {
          "base_uri": "https://localhost:8080/"
        },
        "id": "G63oLFmCTsAI",
        "outputId": "dcd0ed92-3fc2-4e39-fd62-f0725600059b"
      },
      "source": [
        "#貪婪法輸入數字\n",
        "#t=面額\n",
        "\n",
        "t = [25, 20, 5, 1]\n",
        "\n",
        "#n=多少錢\n",
        "\n",
        "def change(t, n):\n",
        "  m = [0 for _ in range(len(t))]\n",
        "  print(m)\n",
        "  for i, money in enumerate(t):\n",
        "    m[i] = n // money  #幾個\n",
        "    print(m[i])\n",
        "    n = n % money  #餘數\n",
        "    print(m,n)   #return回傳結果後會停止執行迴圈 #return :直接跳出結束那個函式，不會繼續執行迴圈外的程式 #https://dotblogs.com.tw/mis0800/2015/05/16/151316\n",
        "\n",
        "print(\"請輸入數字:\")\n",
        "change(t, int(input()))\n",
        "\n",
        "#每個都算  \n"
      ],
      "execution_count": null,
      "outputs": [
        {
          "output_type": "stream",
          "text": [
            "請輸入數字:\n",
            "41\n",
            "[0, 0, 0, 0]\n",
            "1\n",
            "[1, 0, 0, 0] 16\n",
            "0\n",
            "[1, 0, 0, 0] 16\n",
            "3\n",
            "[1, 0, 3, 0] 1\n",
            "1\n",
            "[1, 0, 3, 1] 0\n"
          ],
          "name": "stdout"
        }
      ]
    },
    {
      "cell_type": "code",
      "metadata": {
        "colab": {
          "base_uri": "https://localhost:8080/"
        },
        "id": "lqKsNbIZT1x1",
        "outputId": "89260c6f-8835-4535-e3a5-15e7d29fa108"
      },
      "source": [
        "#找零錢動態規劃  ###https://iter01.com/538372.html\n",
        "#t=面額\n",
        "\n",
        "def getMinCountsLoop(k, values):\n",
        "    memo = [-1] * (k + 1)  #-1*42\n",
        "    memo[0] = 0 # 初始化狀態\n",
        "    for item in range(1, k + 1): #1-42\n",
        "        minCount = k + 1 # 模擬無窮大 #1-42\n",
        "        for iter in range(len(values)):\n",
        "            currentValue = values[iter]  #currentValue 硬幣值\n",
        "            # 如果當前面值大於硬幣總額，那麼跳過\n",
        "            if (currentValue > item):\n",
        "                continue\n",
        "\n",
        "            # 使用當前面值，得到剩餘硬幣總額\n",
        "            rest = item - currentValue   # 總$-硬幣\n",
        "            \n",
        "            restCount = memo[rest]  \n",
        "           \n",
        "            # 如果返回-1，說明組合不可信，跳過\n",
        "            if (restCount == -1):\n",
        "                continue\n",
        "\n",
        "            # 保留最小總額\n",
        "            itemCount = 1 + restCount # itemCount = 1+ memo[rest] \n",
        "            if (itemCount < minCount): #itemCount小於minCount \n",
        "                minCount = itemCount #itemCount成為新的minCount \n",
        "                \n",
        "        # 如果是可用組合，記錄結果\n",
        "        if (minCount != k + 1): #minCount!=1+41 \n",
        "            memo[item] = minCount #memo[item] = minCount\n",
        "            \n",
        "    \n",
        "    return memo[k] #回傳值\n",
        "\n",
        "def getMinCountsDPSol():\n",
        "    values = [25,20, 5,1] # 硬幣面值\n",
        "    total = 41 # 總值\n",
        "\n",
        "    # 求得最小的硬幣數量\n",
        "    return getMinCountsLoop(total, values) # 輸出答案\n",
        "\n",
        "def main():\n",
        "    result = getMinCountsDPSol()\n",
        "    print( \"最少要找\"+ str(result) +\"個硬幣\")\n",
        "\n",
        "if __name__ == \"__main__\":\n",
        "    main()\n",
        "\n",
        "#每個都算 #印出幾個硬幣 不用印選甚麼硬幣"
      ],
      "execution_count": 2,
      "outputs": [
        {
          "output_type": "stream",
          "text": [
            "最少要找3個硬幣\n"
          ],
          "name": "stdout"
        }
      ]
    },
    {
      "cell_type": "code",
      "metadata": {
        "id": "moeCvBMwinvq",
        "outputId": "ae01f991-79b8-4462-bc33-bcd176c26308",
        "colab": {
          "base_uri": "https://localhost:8080/"
        }
      },
      "source": [
        "#背包最有價值貪婪  #https://blog.csdn.net/qq_36888550/article/details/105910137\n",
        "\n",
        "# coding=gbk\n",
        "# 完全背包问题，贪心算法\n",
        "import time\n",
        "__author__ = 'ice'\n",
        "class goods:\n",
        "  def __init__(self, goods_id, weight=0, value=0):\n",
        "    self.id = goods_id\n",
        "    self.weight = weight\n",
        "    self.value = value\n",
        "# 不适用于0-1背包\n",
        "def knapsack(capacity=0, goods_set=[]):\n",
        "  # 按单位价值量排序\n",
        "  goods_set.sort(key=lambda obj: obj.value / obj.weight, reverse=True)\n",
        "  result = []\n",
        "  for a_goods in goods_set:\n",
        "    if capacity < a_goods.weight:\n",
        "      break\n",
        "    result.append(a_goods)\n",
        "    capacity -= a_goods.weight\n",
        "    print(result)\n",
        "\n",
        "  if len(result) < len(goods_set) and capacity != 0:\n",
        "    for a_goods in goods_set :\n",
        "      if (goods(a_goods.id, capacity, a_goods.value * capacity / a_goods.weight)) in result == True:\n",
        "        continue\n",
        "      if capacity < a_goods.weight:\n",
        "        break\n",
        "        result.append(a_goods)\n",
        "        capacity -= a_goods.weight\n",
        "\n",
        "#  if len(result) < len(goods_set) and capacity != 0:\n",
        "#    result.append(goods(a_goods.id, capacity, a_goods.value * capacity / a_goods.weight))\n",
        "  print(capacity)\n",
        "  print(goods(a_goods.id, capacity, a_goods.value * capacity / a_goods.weight))\n",
        "  return result\n",
        "some_goods = [goods(1, 5, 17000), goods(2, 1, 35000), goods(3, 4, 60000), goods(4, 3, 9000), goods(5, 2, 20000)]\n",
        "start_time = time.clock()\n",
        "res = knapsack(10, some_goods)\n",
        "end_time = time.clock()\n",
        "#print('花费时间：' + str(end_time - start_time))\n",
        "print(\"放入的物品有:\")\n",
        "for obj in res:\n",
        "  \n",
        "  print('物品编号:' + str(obj.id) + ' ,放入重量:' + str(obj.weight) + ',放入的价值:' + str(obj.value), end=',')\n",
        "  print('单位价值量为:' + str(obj.value / obj.weight))\n"
      ],
      "execution_count": 41,
      "outputs": [
        {
          "output_type": "stream",
          "text": [
            "[<__main__.goods object at 0x7fd92568a470>]\n",
            "[<__main__.goods object at 0x7fd92568a470>, <__main__.goods object at 0x7fd92568a390>]\n",
            "[<__main__.goods object at 0x7fd92568a470>, <__main__.goods object at 0x7fd92568a390>, <__main__.goods object at 0x7fd92568a2e8>]\n",
            "3\n",
            "<__main__.goods object at 0x7fd92568a5c0>\n",
            "放入的物品有:\n",
            "物品编号:2 ,放入重量:1,放入的价值:35000,单位价值量为:35000.0\n",
            "物品编号:3 ,放入重量:4,放入的价值:60000,单位价值量为:15000.0\n",
            "物品编号:5 ,放入重量:2,放入的价值:20000,单位价值量为:10000.0\n"
          ],
          "name": "stdout"
        }
      ]
    },
    {
      "cell_type": "code",
      "metadata": {
        "colab": {
          "base_uri": "https://localhost:8080/"
        },
        "id": "z3X7x_Y3ip1v",
        "outputId": "e2e3dcab-c57f-4a5b-baea-77fde2593eb5"
      },
      "source": [
        "#最有價值動態理解 #印金額 或選甚麼\n",
        "def bag(n,c,w,v):\n",
        "\tres=[[-1 for j in range(c+1)] for i in range(n+1)]\n",
        "\tfor j in range(c+1):\n",
        "\t\tres[0][j]=0\n",
        "\tfor i in range(1,n+1):\n",
        "\t\tfor j in range(1,c+1):\n",
        "\t\t\tres[i][j]=res[i-1][j]\n",
        "\t\t\tif j>=w[i-1] and res[i][j]<res[i-1][j-w[i-1]]+v[i-1]:\n",
        "\t\t\t\tres[i][j]=res[i-1][j-w[i-1]]+v[i-1]\n",
        "\tprint(res)\n",
        "\treturn res\n",
        "\n",
        "def show(n,c,w,res):\n",
        "\tprint('最大價值為:',res[n][c])#+1)\n",
        "\tx=[False for i in range(n)]\n",
        "\tj=c\n",
        "\tfor i in range(1,n+1):\n",
        "\t\tif res[i][j]>res[i-1][j]:\n",
        "\t\t\tx[i-1]=True\n",
        "\t\t\tprint(x)\n",
        "\t\t\tj-=w[i-1]\n",
        "\tprint('選擇的物品為:')\n",
        "\tfor i in range(n):\n",
        "\t\tif x[i]:\n",
        "\t\t\tprint('第',i+1,'個,',end='')\n",
        "\tprint('')\n",
        "\n",
        "if __name__=='__main__':\n",
        "\tn=5\n",
        "\tc=10\n",
        "\tw=[5,1,4,3,2]\n",
        "\tv=[17000,35000,60000,9000,20000]\n",
        "\tres=bag(n,c,w,v)\n",
        "\tshow(n,c,w,res)"
      ],
      "execution_count": null,
      "outputs": [
        {
          "output_type": "stream",
          "text": [
            "[[0, 0, 0, 0, 0, 0, 0, 0, 0, 0, 0], [-1, 0, 0, 0, 0, 17000, 17000, 17000, 17000, 17000, 17000], [-1, 34999, 35000, 35000, 35000, 35000, 52000, 52000, 52000, 52000, 52000], [-1, 34999, 35000, 35000, 59999, 94999, 95000, 95000, 95000, 95000, 112000], [-1, 34999, 35000, 35000, 59999, 94999, 95000, 95000, 103999, 104000, 112000], [-1, 34999, 35000, 54999, 59999, 94999, 95000, 114999, 115000, 115000, 123999]]\n",
            "最大價值為: 123999\n",
            "[True, False, False, False, False]\n",
            "[True, True, False, False, False]\n",
            "[True, True, True, False, False]\n",
            "選擇的物品為:\n",
            "第 1 個,第 2 個,第 3 個,\n"
          ],
          "name": "stdout"
        }
      ]
    }
  ]
}