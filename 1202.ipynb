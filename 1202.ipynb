{
  "nbformat": 4,
  "nbformat_minor": 0,
  "metadata": {
    "colab": {
      "name": "1202.ipynb",
      "provenance": [],
      "authorship_tag": "ABX9TyPyvclr6RMLep9tFo8LdXc1",
      "include_colab_link": true
    },
    "kernelspec": {
      "name": "python3",
      "display_name": "Python 3"
    }
  },
  "cells": [
    {
      "cell_type": "markdown",
      "metadata": {
        "id": "view-in-github",
        "colab_type": "text"
      },
      "source": [
        "<a href=\"https://colab.research.google.com/github/YuTTsai/S10755018-Sort/blob/master/1202.ipynb\" target=\"_parent\"><img src=\"https://colab.research.google.com/assets/colab-badge.svg\" alt=\"Open In Colab\"/></a>"
      ]
    },
    {
      "cell_type": "code",
      "metadata": {
        "colab": {
          "base_uri": "https://localhost:8080/"
        },
        "id": "0T6TLwxKD2f4",
        "outputId": "db0f9b86-8248-4760-fc55-bacc2d6c98e5"
      },
      "source": [
        "#貪婪法執行過程\n",
        "#t=面額\n",
        "\n",
        "t = [25, 20, 5, 1]\n",
        "\n",
        "#n=多少錢\n",
        "\n",
        "def change(t, n):\n",
        "  m = [0 for _ in range(len(t))]\n",
        "  print(m)\n",
        "  for i, money in enumerate(t):\n",
        "    m[i] = n // money  #幾個\n",
        "    print(m[i])\n",
        "    n = n % money  #餘數\n",
        "    print(m,n)   #return回傳結果後會停止執行迴圈 #return :直接跳出結束那個函式，不會繼續執行迴圈外的程式 #https://dotblogs.com.tw/mis0800/2015/05/16/151316\n",
        "\n",
        "\n",
        "change(t, 41)\n",
        "\n",
        "#每個都算"
      ],
      "execution_count": 36,
      "outputs": [
        {
          "output_type": "stream",
          "text": [
            "[0, 0, 0, 0]\n",
            "1\n",
            "[1, 0, 0, 0] 16\n",
            "0\n",
            "[1, 0, 0, 0] 16\n",
            "3\n",
            "[1, 0, 3, 0] 1\n",
            "1\n",
            "[1, 0, 3, 1] 0\n"
          ],
          "name": "stdout"
        }
      ]
    },
    {
      "cell_type": "code",
      "metadata": {
        "id": "G63oLFmCTsAI"
      },
      "source": [
        "#貪婪法輸入數字\n",
        "#t=面額\n",
        "\n",
        "t = [25, 20, 5, 1]\n",
        "\n",
        "#n=多少錢\n",
        "\n",
        "def change(t, n):\n",
        "  m = [0 for _ in range(len(t))]\n",
        "  print(m)\n",
        "  for i, money in enumerate(t):\n",
        "    m[i] = n // money  #幾個\n",
        "    print(m[i])\n",
        "    n = n % money  #餘數\n",
        "    print(m,n)   #return回傳結果後會停止執行迴圈 #return :直接跳出結束那個函式，不會繼續執行迴圈外的程式 #https://dotblogs.com.tw/mis0800/2015/05/16/151316\n",
        "\n",
        "\n",
        "change(t, 41)\n",
        "\n",
        "#每個都算"
      ],
      "execution_count": null,
      "outputs": []
    }
  ]
}