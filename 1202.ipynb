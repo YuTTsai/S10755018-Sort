{
  "nbformat": 4,
  "nbformat_minor": 0,
  "metadata": {
    "colab": {
      "name": "1202.ipynb",
      "provenance": [],
      "authorship_tag": "ABX9TyNm/Qnoys3dE1cS4+moTwqb",
      "include_colab_link": true
    },
    "kernelspec": {
      "name": "python3",
      "display_name": "Python 3"
    }
  },
  "cells": [
    {
      "cell_type": "markdown",
      "metadata": {
        "id": "view-in-github",
        "colab_type": "text"
      },
      "source": [
        "<a href=\"https://colab.research.google.com/github/YuTTsai/S10755018-Sort/blob/master/1202.ipynb\" target=\"_parent\"><img src=\"https://colab.research.google.com/assets/colab-badge.svg\" alt=\"Open In Colab\"/></a>"
      ]
    },
    {
      "cell_type": "code",
      "metadata": {
        "colab": {
          "base_uri": "https://localhost:8080/"
        },
        "id": "0T6TLwxKD2f4",
        "outputId": "e94e0cd5-3ede-4eed-ee74-9e2028bee874"
      },
      "source": [
        "#貪婪法執行過程\n",
        "#t=面額\n",
        "\n",
        "t = [25, 20, 5, 1]\n",
        "\n",
        "#n=多少錢\n",
        "\n",
        "def change(t, n):\n",
        "  m = [0 for _ in range(len(t))]\n",
        "  print(m)\n",
        "  for i, money in enumerate(t):\n",
        "    m[i] = n // money  #幾個\n",
        "    print(m[i])\n",
        "    n = n % money  #餘數\n",
        "    print(m,n)   #return回傳結果後會停止執行迴圈 #return :直接跳出結束那個函式，不會繼續執行迴圈外的程式 #https://dotblogs.com.tw/mis0800/2015/05/16/151316\n",
        "\n",
        "change(t, 41)\n",
        "\n",
        "#每個都算"
      ],
      "execution_count": 39,
      "outputs": [
        {
          "output_type": "stream",
          "text": [
            "[0, 0, 0, 0]\n",
            "1\n",
            "[1, 0, 0, 0] 16\n",
            "0\n",
            "[1, 0, 0, 0] 16\n",
            "3\n",
            "[1, 0, 3, 0] 1\n",
            "1\n",
            "[1, 0, 3, 1] 0\n"
          ],
          "name": "stdout"
        }
      ]
    },
    {
      "cell_type": "code",
      "metadata": {
        "colab": {
          "base_uri": "https://localhost:8080/"
        },
        "id": "G63oLFmCTsAI",
        "outputId": "dcd0ed92-3fc2-4e39-fd62-f0725600059b"
      },
      "source": [
        "#貪婪法輸入數字\n",
        "#t=面額\n",
        "\n",
        "t = [25, 20, 5, 1]\n",
        "\n",
        "#n=多少錢\n",
        "\n",
        "def change(t, n):\n",
        "  m = [0 for _ in range(len(t))]\n",
        "  print(m)\n",
        "  for i, money in enumerate(t):\n",
        "    m[i] = n // money  #幾個\n",
        "    print(m[i])\n",
        "    n = n % money  #餘數\n",
        "    print(m,n)   #return回傳結果後會停止執行迴圈 #return :直接跳出結束那個函式，不會繼續執行迴圈外的程式 #https://dotblogs.com.tw/mis0800/2015/05/16/151316\n",
        "\n",
        "print(\"請輸入數字:\")\n",
        "change(t, int(input()))\n",
        "\n",
        "#每個都算"
      ],
      "execution_count": 42,
      "outputs": [
        {
          "output_type": "stream",
          "text": [
            "請輸入數字:\n",
            "41\n",
            "[0, 0, 0, 0]\n",
            "1\n",
            "[1, 0, 0, 0] 16\n",
            "0\n",
            "[1, 0, 0, 0] 16\n",
            "3\n",
            "[1, 0, 3, 0] 1\n",
            "1\n",
            "[1, 0, 3, 1] 0\n"
          ],
          "name": "stdout"
        }
      ]
    },
    {
      "cell_type": "code",
      "metadata": {
        "colab": {
          "base_uri": "https://localhost:8080/"
        },
        "id": "lqKsNbIZT1x1",
        "outputId": "957b74fc-3a7c-49c3-d0ca-91919b578337"
      },
      "source": [
        "###未完成#找零錢DP\n",
        "#t=面額\n",
        "\n",
        "def getMinCountsLoop(k, values):\n",
        "    memo = [-1] * (k + 1)\n",
        "    memo[0] = 0 # 初始化狀態\n",
        "    for item in range(1, k + 1):\n",
        "        minCount = k + 1 # 模擬無窮大\n",
        "        for iter in range(len(values)):\n",
        "            currentValue = values[iter]\n",
        "            # 如果當前面值大於硬幣總額，那麼跳過\n",
        "            if (currentValue > item):\n",
        "                continue\n",
        "\n",
        "            # 使用當前面值，得到剩餘硬幣總額\n",
        "            rest = item - currentValue\n",
        "            restCount = memo[rest]\n",
        "           \n",
        "            # 如果返回-1，說明組合不可信，跳過\n",
        "            if (restCount == -1):\n",
        "                continue\n",
        "\n",
        "            # 保留最小總額\n",
        "            itemCount = 1 + restCount\n",
        "            if (itemCount < minCount):\n",
        "                minCount = itemCount\n",
        "\n",
        "        # 如果是可用組合，記錄結果\n",
        "        if (minCount != k + 1):\n",
        "            memo[item] = minCount\n",
        "\n",
        "    return memo[k]\n",
        "\n",
        "def getMinCountsDPSol():\n",
        "    values = [25,20, 5,1] # 硬幣面值\n",
        "    total = 41 # 總值\n",
        "\n",
        "    # 求得最小的硬幣數量\n",
        "    return getMinCountsLoop(total, values) # 輸出答案\n",
        "\n",
        "def main():\n",
        "    result = getMinCountsDPSol()\n",
        "    print(result)\n",
        "\n",
        "if __name__ == \"__main__\":\n",
        "    main()\n",
        "\n",
        "#每個都算"
      ],
      "execution_count": 45,
      "outputs": [
        {
          "output_type": "stream",
          "text": [
            "3\n"
          ],
          "name": "stdout"
        }
      ]
    },
    {
      "cell_type": "code",
      "metadata": {
        "colab": {
          "base_uri": "https://localhost:8080/",
          "height": 379
        },
        "id": "GTxbBuq6T4Lr",
        "outputId": "95249c18-8aa6-45f5-d451-75b6981bcecd"
      },
      "source": [
        "#最有價值貪婪\n",
        "\n",
        "#t=面額\n",
        "#t = [25, 20, 5, 1]\n",
        "\n",
        "#n=多少錢\n",
        "\n",
        "#def change(t, n):\n",
        "\n",
        "w = [5, 1, 4, 3, 2]\n",
        "v = [17000, 35000, 60000, 9000, 20000]\n",
        "\n",
        "#n=多少錢\n",
        "\n",
        "def change(w,v, n):\n",
        "  m = [0 for _ in range(len(v))]\n",
        "  print(m)\n",
        "  for i, money in enumerate(max(v)):\n",
        "    m[i] = n // money  #幾個\n",
        "    print(m[i])\n",
        "    n = n % money  #餘數\n",
        "    print(m,n)   #return回傳結果後會停止執行迴圈 #return :直接跳出結束那個函式，不會繼續執行迴圈外的程式 #https://dotblogs.com.tw/mis0800/2015/05/16/151316\n",
        "\n",
        "change(w,v, 10)\n",
        "\n",
        "#每個都算"
      ],
      "execution_count": 43,
      "outputs": [
        {
          "output_type": "stream",
          "text": [
            "[0, 0, 0, 0, 0]\n"
          ],
          "name": "stdout"
        },
        {
          "output_type": "error",
          "ename": "TypeError",
          "evalue": "ignored",
          "traceback": [
            "\u001b[0;31m---------------------------------------------------------------------------\u001b[0m",
            "\u001b[0;31mTypeError\u001b[0m                                 Traceback (most recent call last)",
            "\u001b[0;32m<ipython-input-43-918f92ea64b6>\u001b[0m in \u001b[0;36m<module>\u001b[0;34m()\u001b[0m\n\u001b[1;32m     22\u001b[0m     \u001b[0mprint\u001b[0m\u001b[0;34m(\u001b[0m\u001b[0mm\u001b[0m\u001b[0;34m,\u001b[0m\u001b[0mn\u001b[0m\u001b[0;34m)\u001b[0m   \u001b[0;31m#return回傳結果後會停止執行迴圈 #return :直接跳出結束那個函式，不會繼續執行迴圈外的程式 #https://dotblogs.com.tw/mis0800/2015/05/16/151316\u001b[0m\u001b[0;34m\u001b[0m\u001b[0;34m\u001b[0m\u001b[0m\n\u001b[1;32m     23\u001b[0m \u001b[0;34m\u001b[0m\u001b[0m\n\u001b[0;32m---> 24\u001b[0;31m \u001b[0mchange\u001b[0m\u001b[0;34m(\u001b[0m\u001b[0mw\u001b[0m\u001b[0;34m,\u001b[0m\u001b[0mv\u001b[0m\u001b[0;34m,\u001b[0m \u001b[0;36m10\u001b[0m\u001b[0;34m)\u001b[0m\u001b[0;34m\u001b[0m\u001b[0;34m\u001b[0m\u001b[0m\n\u001b[0m\u001b[1;32m     25\u001b[0m \u001b[0;34m\u001b[0m\u001b[0m\n\u001b[1;32m     26\u001b[0m \u001b[0;31m#每個都算\u001b[0m\u001b[0;34m\u001b[0m\u001b[0;34m\u001b[0m\u001b[0;34m\u001b[0m\u001b[0m\n",
            "\u001b[0;32m<ipython-input-43-918f92ea64b6>\u001b[0m in \u001b[0;36mchange\u001b[0;34m(w, v, n)\u001b[0m\n\u001b[1;32m     16\u001b[0m   \u001b[0mm\u001b[0m \u001b[0;34m=\u001b[0m \u001b[0;34m[\u001b[0m\u001b[0;36m0\u001b[0m \u001b[0;32mfor\u001b[0m \u001b[0m_\u001b[0m \u001b[0;32min\u001b[0m \u001b[0mrange\u001b[0m\u001b[0;34m(\u001b[0m\u001b[0mlen\u001b[0m\u001b[0;34m(\u001b[0m\u001b[0mv\u001b[0m\u001b[0;34m)\u001b[0m\u001b[0;34m)\u001b[0m\u001b[0;34m]\u001b[0m\u001b[0;34m\u001b[0m\u001b[0;34m\u001b[0m\u001b[0m\n\u001b[1;32m     17\u001b[0m   \u001b[0mprint\u001b[0m\u001b[0;34m(\u001b[0m\u001b[0mm\u001b[0m\u001b[0;34m)\u001b[0m\u001b[0;34m\u001b[0m\u001b[0;34m\u001b[0m\u001b[0m\n\u001b[0;32m---> 18\u001b[0;31m   \u001b[0;32mfor\u001b[0m \u001b[0mi\u001b[0m\u001b[0;34m,\u001b[0m \u001b[0mmoney\u001b[0m \u001b[0;32min\u001b[0m \u001b[0menumerate\u001b[0m\u001b[0;34m(\u001b[0m\u001b[0mmax\u001b[0m\u001b[0;34m(\u001b[0m\u001b[0mv\u001b[0m\u001b[0;34m)\u001b[0m\u001b[0;34m)\u001b[0m\u001b[0;34m:\u001b[0m\u001b[0;34m\u001b[0m\u001b[0;34m\u001b[0m\u001b[0m\n\u001b[0m\u001b[1;32m     19\u001b[0m     \u001b[0mm\u001b[0m\u001b[0;34m[\u001b[0m\u001b[0mi\u001b[0m\u001b[0;34m]\u001b[0m \u001b[0;34m=\u001b[0m \u001b[0mn\u001b[0m \u001b[0;34m//\u001b[0m \u001b[0mmoney\u001b[0m  \u001b[0;31m#幾個\u001b[0m\u001b[0;34m\u001b[0m\u001b[0;34m\u001b[0m\u001b[0m\n\u001b[1;32m     20\u001b[0m     \u001b[0mprint\u001b[0m\u001b[0;34m(\u001b[0m\u001b[0mm\u001b[0m\u001b[0;34m[\u001b[0m\u001b[0mi\u001b[0m\u001b[0;34m]\u001b[0m\u001b[0;34m)\u001b[0m\u001b[0;34m\u001b[0m\u001b[0;34m\u001b[0m\u001b[0m\n",
            "\u001b[0;31mTypeError\u001b[0m: 'int' object is not iterable"
          ]
        }
      ]
    },
    {
      "cell_type": "code",
      "metadata": {
        "id": "8mOvhlPDT6cx"
      },
      "source": [
        "#最有價值DP"
      ],
      "execution_count": null,
      "outputs": []
    }
  ]
}