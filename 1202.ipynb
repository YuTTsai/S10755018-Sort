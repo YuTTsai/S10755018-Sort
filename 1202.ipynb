{
  "nbformat": 4,
  "nbformat_minor": 0,
  "metadata": {
    "colab": {
      "name": "1202.ipynb",
      "provenance": [],
      "authorship_tag": "ABX9TyPQ6BttchEXAsGcjpL68CgJ",
      "include_colab_link": true
    },
    "kernelspec": {
      "name": "python3",
      "display_name": "Python 3"
    }
  },
  "cells": [
    {
      "cell_type": "markdown",
      "metadata": {
        "id": "view-in-github",
        "colab_type": "text"
      },
      "source": [
        "<a href=\"https://colab.research.google.com/github/YuTTsai/S10755018-Sort/blob/master/1202.ipynb\" target=\"_parent\"><img src=\"https://colab.research.google.com/assets/colab-badge.svg\" alt=\"Open In Colab\"/></a>"
      ]
    },
    {
      "cell_type": "code",
      "metadata": {
        "colab": {
          "base_uri": "https://localhost:8080/"
        },
        "id": "0T6TLwxKD2f4",
        "outputId": "e94e0cd5-3ede-4eed-ee74-9e2028bee874"
      },
      "source": [
        "#貪婪法執行過程\n",
        "#t=面額\n",
        "\n",
        "t = [25, 20, 5, 1]\n",
        "\n",
        "#n=多少錢\n",
        "\n",
        "def change(t, n):\n",
        "  m = [0 for _ in range(len(t))]\n",
        "  print(m)\n",
        "  for i, money in enumerate(t):\n",
        "    m[i] = n // money  #幾個\n",
        "    print(m[i])\n",
        "    n = n % money  #餘數\n",
        "    print(m,n)   #return回傳結果後會停止執行迴圈 #return :直接跳出結束那個函式，不會繼續執行迴圈外的程式 #https://dotblogs.com.tw/mis0800/2015/05/16/151316\n",
        "\n",
        "change(t, 41)\n",
        "\n",
        "#每個都算"
      ],
      "execution_count": null,
      "outputs": [
        {
          "output_type": "stream",
          "text": [
            "[0, 0, 0, 0]\n",
            "1\n",
            "[1, 0, 0, 0] 16\n",
            "0\n",
            "[1, 0, 0, 0] 16\n",
            "3\n",
            "[1, 0, 3, 0] 1\n",
            "1\n",
            "[1, 0, 3, 1] 0\n"
          ],
          "name": "stdout"
        }
      ]
    },
    {
      "cell_type": "code",
      "metadata": {
        "colab": {
          "base_uri": "https://localhost:8080/"
        },
        "id": "G63oLFmCTsAI",
        "outputId": "dcd0ed92-3fc2-4e39-fd62-f0725600059b"
      },
      "source": [
        "#貪婪法輸入數字\n",
        "#t=面額\n",
        "\n",
        "t = [25, 20, 5, 1]\n",
        "\n",
        "#n=多少錢\n",
        "\n",
        "def change(t, n):\n",
        "  m = [0 for _ in range(len(t))]\n",
        "  print(m)\n",
        "  for i, money in enumerate(t):\n",
        "    m[i] = n // money  #幾個\n",
        "    print(m[i])\n",
        "    n = n % money  #餘數\n",
        "    print(m,n)   #return回傳結果後會停止執行迴圈 #return :直接跳出結束那個函式，不會繼續執行迴圈外的程式 #https://dotblogs.com.tw/mis0800/2015/05/16/151316\n",
        "\n",
        "print(\"請輸入數字:\")\n",
        "change(t, int(input()))\n",
        "\n",
        "#每個都算  \n"
      ],
      "execution_count": null,
      "outputs": [
        {
          "output_type": "stream",
          "text": [
            "請輸入數字:\n",
            "41\n",
            "[0, 0, 0, 0]\n",
            "1\n",
            "[1, 0, 0, 0] 16\n",
            "0\n",
            "[1, 0, 0, 0] 16\n",
            "3\n",
            "[1, 0, 3, 0] 1\n",
            "1\n",
            "[1, 0, 3, 1] 0\n"
          ],
          "name": "stdout"
        }
      ]
    },
    {
      "cell_type": "code",
      "metadata": {
        "colab": {
          "base_uri": "https://localhost:8080/"
        },
        "id": "lqKsNbIZT1x1",
        "outputId": "08ff2f17-9661-4c11-e723-eb5a54aeefa9"
      },
      "source": [
        "###未完成#找零錢動態規劃  ###https://iter01.com/538372.html\n",
        "#t=面額\n",
        "\n",
        "def getMinCountsLoop(k, values):\n",
        "    memo = [-1] * (k + 1)  #-1*42\n",
        "    memo[0] = 0 # 初始化狀態\n",
        "    for item in range(1, k + 1): #1-42\n",
        "        minCount = k + 1 # 模擬無窮大 #1-42\n",
        "        for iter in range(len(values)):\n",
        "            currentValue = values[iter]  #currentValue 硬幣值\n",
        "            # 如果當前面值大於硬幣總額，那麼跳過\n",
        "            if (currentValue > item):\n",
        "                continue\n",
        "\n",
        "            # 使用當前面值，得到剩餘硬幣總額\n",
        "            rest = item - currentValue   # 總$-硬幣\n",
        "            \n",
        "            restCount = memo[rest]  \n",
        "           \n",
        "            # 如果返回-1，說明組合不可信，跳過\n",
        "            if (restCount == -1):\n",
        "                continue\n",
        "\n",
        "            # 保留最小總額\n",
        "            itemCount = 1 + restCount # itemCount = 1+ memo[rest] \n",
        "            if (itemCount < minCount): #itemCount小於minCount \n",
        "                minCount = itemCount #itemCount成為新的minCount \n",
        "                \n",
        "        # 如果是可用組合，記錄結果\n",
        "        if (minCount != k + 1): #minCount!=1+41 \n",
        "            memo[item] = minCount #memo[item] = minCount\n",
        "            \n",
        "    \n",
        "    return memo[k] #回傳值\n",
        "\n",
        "def getMinCountsDPSol():\n",
        "    values = [25,20, 5,1] # 硬幣面值\n",
        "    total = 41 # 總值\n",
        "\n",
        "    # 求得最小的硬幣數量\n",
        "    return getMinCountsLoop(total, values) # 輸出答案\n",
        "\n",
        "def main():\n",
        "    result = getMinCountsDPSol()\n",
        "    print( \"最少要找\"+ str(result) +\"個硬幣\")\n",
        "\n",
        "if __name__ == \"__main__\":\n",
        "    main()\n",
        "\n",
        "#每個都算 #印出幾個硬幣 不用印選甚麼硬幣"
      ],
      "execution_count": 14,
      "outputs": [
        {
          "output_type": "stream",
          "text": [
            "3\n",
            "最少要找3個硬幣\n"
          ],
          "name": "stdout"
        }
      ]
    },
    {
      "cell_type": "code",
      "metadata": {
        "id": "moeCvBMwinvq"
      },
      "source": [
        "#最有價值貪婪\n",
        "\n",
        "\n",
        "#各物品的体积列表\n",
        "v = []\n",
        "#各物品的价值列表\n",
        "val = []\n",
        "#各物品编号\n",
        "num = []\n",
        "#各物品价格/体重\n",
        "v_val = []\n",
        "#输入背包体积\n",
        "VS = eval(input(\"背包体积为：\"))\n",
        "#输入物品种类数\n",
        "S = eval(input(\"物品种类数目为：\"))\n",
        "#输入各物品信息\n",
        "for i in range(S):\n",
        "    num.append(input(\"第{}类物品的编号为：\".format(i+1)))\n",
        "    v.append(eval(input(\"第{}类物品的体积为：\".format(i + 1))))\n",
        "    val.append(eval(input(\"第{}类物品的价值为：\".format(i + 1))))\n",
        "\n",
        "print(\"各物品信息：\")\n",
        "print(\"编号：{}\".format(num))\n",
        "print(\"体积：{}\".format(v))\n",
        "print(\"价值：{}\".format(val))\n",
        "#计算价格与体重之比\n",
        "for i in range(S):\n",
        "    v_val.append(val[i]/v[i])\n",
        "#排序\n",
        "for i in range(S):\n",
        "    for j in range(i+1,S):\n",
        "        if v_val[i] < v_val[j]:\n",
        "            v_val[i],v_val[j] = v_val[j],v_val[i]\n",
        "            v[i],v[j] = v[j],v[i]\n",
        "            val[i],val[j] = val[j],val[i]\n",
        "            num[i],num[j] = num[j],num[i]\n",
        "\n",
        "print(\"编号：{}\".format(num))\n",
        "print(\"体积：{}\".format(v))\n",
        "print(\"价值：{}\".format(val))\n",
        "\n",
        "#不可分割物品\n",
        "#当前背包占用体积\n",
        "v1_now = 0\n",
        "#当前背包内价值\n",
        "val1_now = 0\n",
        "\n",
        "print(\"背包内加入的物品编号有：\",end='')\n",
        "for i in range(S):\n",
        "    if (v[i] + v1_now) <= VS:\n",
        "        v1_now +=v[i]\n",
        "        val1_now += val[i]\n",
        "        print(num[i],end='')\n",
        "    else:\n",
        "        break\n",
        "print()\n",
        "#背包占用体积为\n",
        "print(\"背包体积:{}\".format(v1_now))\n",
        "print(\"背包价值:{}\".format(val1_now))\n",
        "\n",
        "#可分割物品\n",
        "#当前背包占用体积\n",
        "v2_now = 0\n",
        "#当前背包内价值\n",
        "val2_now = 0\n",
        "\n",
        "print(\"背包内加入的物品编号有：\",end='')\n",
        "for i in range(S):\n",
        "    if (v[i] + v2_now) <= VS:\n",
        "        v2_now +=v[i]\n",
        "        val2_now += val[i]\n",
        "        print(num[i],end='')\n",
        "    elif v2_now < VS:\n",
        "        last = VS - v2_now\n",
        "        val2_now +=val[i]*(last/v[i])\n",
        "        v2_now = VS\n",
        "        print(num[i],end='')\n",
        "    elif v2_now == VS:\n",
        "        break\n",
        "\n",
        "print()\n",
        "print(\"背包价值:{}\".format(val2_now))"
      ],
      "execution_count": null,
      "outputs": []
    },
    {
      "cell_type": "code",
      "metadata": {
        "colab": {
          "base_uri": "https://localhost:8080/"
        },
        "id": "z3X7x_Y3ip1v",
        "outputId": "e2e3dcab-c57f-4a5b-baea-77fde2593eb5"
      },
      "source": [
        "#最有價值動態理解 #印金額 或選甚麼\n",
        "def bag(n,c,w,v):\n",
        "\tres=[[-1 for j in range(c+1)] for i in range(n+1)]\n",
        "\tfor j in range(c+1):\n",
        "\t\tres[0][j]=0\n",
        "\tfor i in range(1,n+1):\n",
        "\t\tfor j in range(1,c+1):\n",
        "\t\t\tres[i][j]=res[i-1][j]\n",
        "\t\t\tif j>=w[i-1] and res[i][j]<res[i-1][j-w[i-1]]+v[i-1]:\n",
        "\t\t\t\tres[i][j]=res[i-1][j-w[i-1]]+v[i-1]\n",
        "\tprint(res)\n",
        "\treturn res\n",
        "\n",
        "def show(n,c,w,res):\n",
        "\tprint('最大價值為:',res[n][c])#+1)\n",
        "\tx=[False for i in range(n)]\n",
        "\tj=c\n",
        "\tfor i in range(1,n+1):\n",
        "\t\tif res[i][j]>res[i-1][j]:\n",
        "\t\t\tx[i-1]=True\n",
        "\t\t\tprint(x)\n",
        "\t\t\tj-=w[i-1]\n",
        "\tprint('選擇的物品為:')\n",
        "\tfor i in range(n):\n",
        "\t\tif x[i]:\n",
        "\t\t\tprint('第',i+1,'個,',end='')\n",
        "\tprint('')\n",
        "\n",
        "if __name__=='__main__':\n",
        "\tn=5\n",
        "\tc=10\n",
        "\tw=[5,1,4,3,2]\n",
        "\tv=[17000,35000,60000,9000,20000]\n",
        "\tres=bag(n,c,w,v)\n",
        "\tshow(n,c,w,res)"
      ],
      "execution_count": 32,
      "outputs": [
        {
          "output_type": "stream",
          "text": [
            "[[0, 0, 0, 0, 0, 0, 0, 0, 0, 0, 0], [-1, 0, 0, 0, 0, 17000, 17000, 17000, 17000, 17000, 17000], [-1, 34999, 35000, 35000, 35000, 35000, 52000, 52000, 52000, 52000, 52000], [-1, 34999, 35000, 35000, 59999, 94999, 95000, 95000, 95000, 95000, 112000], [-1, 34999, 35000, 35000, 59999, 94999, 95000, 95000, 103999, 104000, 112000], [-1, 34999, 35000, 54999, 59999, 94999, 95000, 114999, 115000, 115000, 123999]]\n",
            "最大價值為: 123999\n",
            "[True, False, False, False, False]\n",
            "[True, True, False, False, False]\n",
            "[True, True, True, False, False]\n",
            "選擇的物品為:\n",
            "第 1 個,第 2 個,第 3 個,\n"
          ],
          "name": "stdout"
        }
      ]
    },
    {
      "cell_type": "code",
      "metadata": {
        "colab": {
          "base_uri": "https://localhost:8080/",
          "height": 238
        },
        "id": "Ibmu5NME6Yuy",
        "outputId": "dcb8eeb7-367e-49ec-ceef-521e165db8e2"
      },
      "source": [
        "#有n 個物品，它們有各自的重量和價值，現有給定容量的揹包，如何讓揹包裡裝入的物品具有最大的價值總和？\n",
        "#number＝4，capacity＝8   在程式中用n表示物品數量，用j表示剩餘容量\n",
        "w = [5,1,4,3,2]#表示重量\n",
        "v = [17000,35000,60000,9000,20000]#表示價值\n",
        "#列出模型遞推式\n",
        "# 1)噹噹前剩餘容量小於物品重量時，即 j<w(i)，此時不選擇該物品，價值不增加，和之前的價值一樣。V(i,j)=V(i-1,j)\n",
        "\n",
        "# 2)噹噹前剩餘容量大於物品重量時，即  j>=w(i)，此時鰾膠加與不加之間的價值大小，取最大值     V(i,j)=max｛V(i-1,j)，V(i-1,j-w(i))+v(i)}\n",
        "#先建表\n",
        "\n",
        "n= 5\n",
        "c= 10\n",
        "import numpy as np\n",
        "x = np.zeros([n+1,c+1])\n",
        "for i in range(1,n+1):\n",
        "    for j in range(c,0,-1):\n",
        "        if j<w[i]:\n",
        "            x[i,j] = x[i-1,j]\n",
        "        else:\n",
        "            x[i,j] = max(x[i-1,j],x[i-1,j-w[i]]+v[i])#前i-1個物品的最優解與第i個物品的價值之和更大\n",
        "print(x)\n",
        "#最大的結果為10\n",
        "#最優解即是x(number,capacity)=x(4,8)=10\n",
        "#下面如何回溯得到路徑\n",
        "item = [0]*(n+1)\n",
        "\n",
        "def find_which_item(i,j,item):\n",
        "    if i >=0:\n",
        "        if x[i,j] == x[i-1,j]:#表示沒選這個\n",
        "            item = find_which_item(i-1,j,item)\n",
        "        elif j-w[i]>=0 and x[i,j] == x[i-1,j-w[i]]+v[i]:\n",
        "            item[i] = 1\n",
        "            item = find_which_item(i-1,j-w[i],item)\n",
        "    return item\n",
        "#這裡的4 8 代表的是x(4,8)這裡的數字\n",
        "item = find_which_item(5,10,item)\n",
        "print(item)\n",
        "\n"
      ],
      "execution_count": 34,
      "outputs": [
        {
          "output_type": "error",
          "ename": "IndexError",
          "evalue": "ignored",
          "traceback": [
            "\u001b[0;31m---------------------------------------------------------------------------\u001b[0m",
            "\u001b[0;31mIndexError\u001b[0m                                Traceback (most recent call last)",
            "\u001b[0;32m<ipython-input-34-5ce057d59d5c>\u001b[0m in \u001b[0;36m<module>\u001b[0;34m()\u001b[0m\n\u001b[1;32m     15\u001b[0m \u001b[0;32mfor\u001b[0m \u001b[0mi\u001b[0m \u001b[0;32min\u001b[0m \u001b[0mrange\u001b[0m\u001b[0;34m(\u001b[0m\u001b[0;36m1\u001b[0m\u001b[0;34m,\u001b[0m\u001b[0mn\u001b[0m\u001b[0;34m+\u001b[0m\u001b[0;36m1\u001b[0m\u001b[0;34m)\u001b[0m\u001b[0;34m:\u001b[0m\u001b[0;34m\u001b[0m\u001b[0;34m\u001b[0m\u001b[0m\n\u001b[1;32m     16\u001b[0m     \u001b[0;32mfor\u001b[0m \u001b[0mj\u001b[0m \u001b[0;32min\u001b[0m \u001b[0mrange\u001b[0m\u001b[0;34m(\u001b[0m\u001b[0mc\u001b[0m\u001b[0;34m,\u001b[0m\u001b[0;36m0\u001b[0m\u001b[0;34m,\u001b[0m\u001b[0;34m-\u001b[0m\u001b[0;36m1\u001b[0m\u001b[0;34m)\u001b[0m\u001b[0;34m:\u001b[0m\u001b[0;34m\u001b[0m\u001b[0;34m\u001b[0m\u001b[0m\n\u001b[0;32m---> 17\u001b[0;31m         \u001b[0;32mif\u001b[0m \u001b[0mj\u001b[0m\u001b[0;34m<\u001b[0m\u001b[0mw\u001b[0m\u001b[0;34m[\u001b[0m\u001b[0mi\u001b[0m\u001b[0;34m]\u001b[0m\u001b[0;34m:\u001b[0m\u001b[0;34m\u001b[0m\u001b[0;34m\u001b[0m\u001b[0m\n\u001b[0m\u001b[1;32m     18\u001b[0m             \u001b[0mx\u001b[0m\u001b[0;34m[\u001b[0m\u001b[0mi\u001b[0m\u001b[0;34m,\u001b[0m\u001b[0mj\u001b[0m\u001b[0;34m]\u001b[0m \u001b[0;34m=\u001b[0m \u001b[0mx\u001b[0m\u001b[0;34m[\u001b[0m\u001b[0mi\u001b[0m\u001b[0;34m-\u001b[0m\u001b[0;36m1\u001b[0m\u001b[0;34m,\u001b[0m\u001b[0mj\u001b[0m\u001b[0;34m]\u001b[0m\u001b[0;34m\u001b[0m\u001b[0;34m\u001b[0m\u001b[0m\n\u001b[1;32m     19\u001b[0m         \u001b[0;32melse\u001b[0m\u001b[0;34m:\u001b[0m\u001b[0;34m\u001b[0m\u001b[0;34m\u001b[0m\u001b[0m\n",
            "\u001b[0;31mIndexError\u001b[0m: list index out of range"
          ]
        }
      ]
    }
  ]
}