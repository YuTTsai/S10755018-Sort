{
  "nbformat": 4,
  "nbformat_minor": 0,
  "metadata": {
    "colab": {
      "name": "1216.ipynb",
      "provenance": [],
      "authorship_tag": "ABX9TyNRhOCIQM3rLA85yGXFMfks",
      "include_colab_link": true
    },
    "kernelspec": {
      "name": "python3",
      "display_name": "Python 3"
    }
  },
  "cells": [
    {
      "cell_type": "markdown",
      "metadata": {
        "id": "view-in-github",
        "colab_type": "text"
      },
      "source": [
        "<a href=\"https://colab.research.google.com/github/YuTTsai/S10755018-Sort/blob/master/1216.ipynb\" target=\"_parent\"><img src=\"https://colab.research.google.com/assets/colab-badge.svg\" alt=\"Open In Colab\"/></a>"
      ]
    },
    {
      "cell_type": "markdown",
      "metadata": {
        "id": "WOGum2Saffrx"
      },
      "source": [
        "#最大團問題=最大完全子圖問題（Maximum Clique Problem, MCP）\r\n",
        "\r\n",
        "#資料來源:\r\n",
        "1.http://web.ntnu.edu.tw/~algo/CompleteGraph.html\r\n",
        "\r\n",
        "2.https://tmt514.github.io/algo/algorithmic-graph-theory/cliques\r\n",
        "\r\n",
        "3.https://baike.baidu.com/item/%E6%9C%80%E5%A4%A7%E5%9B%A2%E9%97%AE%E9%A2%98/7648036\r\n",
        "\r\n",
        "4.https://blog.csdn.net/hahajinbu/article/details/53818662\r\n",
        "\r\n",
        "5.https://zh.wikipedia.org/wiki/%E5%AE%8C%E5%85%A8%E5%9C%96\r\n",
        "\r\n",
        "\r\n",
        "\r\n",
        "#介紹&說明:\r\n",
        "最大完全子圖問題是圖論中的最優化問題，也是NP完全問題，\r\n",
        "又稱為最大獨立集問題（Maximum Independent Set Problem）。\r\n",
        "\r\n",
        "**最大完全子圖問題:在無向圖中找出擁有最多點的完全圖**\r\n",
        "無向圖:看不出繪圖順序的圖/沒有箭頭的圖\r\n",
        "完全圖:簡單的無向圖，每一對點都能找到一條邊相連\r\n",
        "  (https://zh.wikipedia.org/wiki/%E5%AE%8C%E5%85%A8%E5%9C%96)網址中有圖例\r\n",
        "\r\n",
        "  -->一個圖形中有很多點，某些點相連，在那之中找到每一個點都必須連到每一個其他點的最大圖形並計算最大的點數就是最大團=最大完全子圖。\r\n",
        "  -->最大完全子圖的任意一對點都必須存在一條線。\r\n",
        "\r\n",
        "通常以w(G)表示符合條件得最大點數\r\n",
        "圖中有8個點，最多只能找到四個點它們彼此之間都存在一條線，最大點數=4。\r\n",
        "\r\n",
        "相關名詞:\r\n",
        "極大團 Maximal Clique ：無法再添加點的團。\r\n",
        "最大團 Maximum Clique ：點最多的團。\r\n",
        "\r\n",
        "#可運用在:\r\n",
        "市場分析，方案選擇，信號傳輸，計算機視覺，故障診斷...領域。\r\n",
        "\r\n",
        "#常用算法有:\r\n",
        "遺傳算法(Genetic Algorithm)、禁忌算法(Tabu Algorithm)、模擬退火算法(Simulated Annealing)、回溯法(BacktrackingAlgorithm)、分支限界法(BranchandBound)...等。\r\n",
        "\r\n",
        "#證明\r\n",
        "\r\n",
        "\r\n",
        "\r\n",
        "\r\n"
      ]
    },
    {
      "cell_type": "code",
      "metadata": {
        "id": "HtI8vWBL8EBg",
        "colab": {
          "base_uri": "https://localhost:8080/"
        },
        "outputId": "0e589e5c-bc80-403a-b53f-d8ff5d66ff77"
      },
      "source": [
        "#https://www.geeksforgeeks.org/maximal-clique-problem-recursive-solution/\r\n",
        "# Python3 implementation of the approach \r\n",
        "MAX = 100; \r\n",
        "n = 0; \r\n",
        "  \r\n",
        "# Stores the vertices 存儲點\r\n",
        "store = [0] * MAX; \r\n",
        "  \r\n",
        "# Graph 圖圖\r\n",
        "graph = [[0 for i in range(MAX)] for j in range(MAX)]; \r\n",
        "  \r\n",
        "# Degree of the vertices 點的數量?\r\n",
        "d = [0] * MAX; \r\n",
        "  \r\n",
        "# Function to check if the given set of 檢查一個給定的函數\r\n",
        "# vertices in store array is a clique or not 存在array中的點是否成團\r\n",
        "def is_clique(b): \r\n",
        "  \r\n",
        "    # Run a loop for all set of edges  為所有的邊設循環\r\n",
        "    for i in range(1, b): #1-b --> 1-1 1-2 1-3...\r\n",
        "        for j in range(i + 1, b): #設i=1 0-b\r\n",
        "  \r\n",
        "            # If any edge is missing  如果缺少任何邊\r\n",
        "            if (graph[store[i]][store[j]] == 0): # ==0 就是沒有邊 \r\n",
        "                return False; #回傳False 跳出此迴圈 回到for i in range(1, b):\r\n",
        "      \r\n",
        "    return True; #回傳True \r\n",
        "  \r\n",
        "# Function to find all the sizes 找到函數的所有邊數(size)\r\n",
        "# of maximal cliques  極大團 Maximal Clique ：無法再添加點的團。\r\n",
        "def maxCliques(i, l): \r\n",
        "  \r\n",
        "    # Maximal clique size 極大團中最多的點數=的點數= max_\r\n",
        "    max_ = 0; \r\n",
        "  \r\n",
        "    # Check if any vertices from i+1  檢查任何來自i+1的點\r\n",
        "    # can be inserted \r\n",
        "    for j in range(i + 1, n + 1):  #1-5\r\n",
        "  \r\n",
        "        # Add the vertex to store  加存儲點\r\n",
        "        store[l] = j; \r\n",
        "  \r\n",
        "        # If the graph is not a clique of size k then 如果圖不是大小為k的集團，\r\n",
        "        # it cannot be a clique by adding another edge 不能透過添加另一條邊成為集團\r\n",
        "        if (is_clique(l + 1)): \r\n",
        "  \r\n",
        "            # Update max 更新max值\r\n",
        "            max_ = max(max_, l); \r\n",
        "  \r\n",
        "            # Check if another edge can be added 檢查是否可以添加另一個邊\r\n",
        "            max_ = max(max_, maxCliques(j, l + 1)); \r\n",
        "          \r\n",
        "    return max_; #回傳最大邊數\r\n",
        "      \r\n",
        "# Driver code \r\n",
        "if __name__ == '__main__': \r\n",
        "    edges = [[ 1, 2 ],[ 2, 3 ],[ 3, 1 ],    #相連的邊界\r\n",
        "           [ 4, 3 ],[ 4, 1 ],[ 4, 2 ]]; \r\n",
        "    size = len(edges); #線的數量\r\n",
        "    n = 4; #點的數量\r\n",
        "  \r\n",
        "    for i in range(size):   \r\n",
        "        graph[edges[i][0]][edges[i][1]] = 1;  #graph的表示法representation http://alrightchiu.github.io/SecondRound/graph-introjian-jie.html\r\n",
        "        graph[edges[i][1]][edges[i][0]] = 1;  #一個二維矩陣，若2點有邊，則矩陣位置[A][B]值為1，反之，則為0。\r\n",
        "        d[edges[i][0]] += 1; \r\n",
        "        d[edges[i][1]] += 1; \r\n",
        "      \r\n",
        "    print(\"最大完全子圖點數:\"+ str(maxCliques(0, 1))); #執行印出最大完全子圖的點數\r\n",
        "  \r\n",
        "# This code is contributed by PrinciRaj1992 "
      ],
      "execution_count": 2,
      "outputs": [
        {
          "output_type": "stream",
          "text": [
            "最大完全子圖點數:4\n"
          ],
          "name": "stdout"
        }
      ]
    }
  ]
}