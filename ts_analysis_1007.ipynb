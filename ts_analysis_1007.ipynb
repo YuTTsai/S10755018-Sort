{
  "nbformat": 4,
  "nbformat_minor": 0,
  "metadata": {
    "colab": {
      "name": "ts_analysis 1007.ipynb",
      "provenance": [],
      "authorship_tag": "ABX9TyPImno8Jm1WFYQY6w74fojz",
      "include_colab_link": true
    },
    "kernelspec": {
      "name": "python3",
      "display_name": "Python 3"
    }
  },
  "cells": [
    {
      "cell_type": "markdown",
      "metadata": {
        "id": "view-in-github",
        "colab_type": "text"
      },
      "source": [
        "<a href=\"https://colab.research.google.com/github/YuTTsai/S10755018-Sort/blob/master/ts_analysis_1007.ipynb\" target=\"_parent\"><img src=\"https://colab.research.google.com/assets/colab-badge.svg\" alt=\"Open In Colab\"/></a>"
      ]
    },
    {
      "cell_type": "code",
      "metadata": {
        "id": "zBZZXAlQ3XXE",
        "outputId": "2aefba76-6577-4aaf-d90f-520f8d044ac0",
        "colab": {
          "base_uri": "https://localhost:8080/"
        }
      },
      "source": [
        "\n",
        "#如何判斷某年是不是閏年？ 4年一次 100年沒有 400年有\n",
        "#⽅法⼀(時間換空間)：\n",
        "#寫⼀個演算法，每給⼀個年份，就可以通過該演算法計算得到是否閏年的結果\n",
        "\n",
        "a=int(input(\"請輸入年份:\")) #輸入值轉為整數\n",
        "print()\n",
        "\n",
        "if ((a%4 ==0)and(a%100!=0))or((a%4 ==0)and(a%400==0)):  #4年一次 100年沒有 400年有\n",
        "  print(\"%d年是閏年!\" %a)                 #%d輸入在字串中,%輸入的變數 可以呈現輸入的值 \n",
        "else:\n",
        "  print(\"%d年不是閏年!\" %a)\n",
        "\n"
      ],
      "execution_count": 40,
      "outputs": [
        {
          "output_type": "stream",
          "text": [
            "請輸入年份:2020\n",
            "\n",
            "2020年是閏年!\n"
          ],
          "name": "stdout"
        }
      ]
    },
    {
      "cell_type": "code",
      "metadata": {
        "id": "HVHtiyDd8wnx",
        "outputId": "a1518488-21d2-483a-a08d-855975e4e688",
        "colab": {
          "base_uri": "https://localhost:8080/"
        }
      },
      "source": [
        "#如何判斷某年是不是閏年？ 4年一次 100年沒有 400年有\n",
        "#⽅法⼆(空間換時間)：\n",
        "\n",
        "#先將2000-2040中是閏年的加到串列year中\n",
        "\n",
        "year=[] #建立空串列\n",
        "\n",
        "for x in range(1999,2040):\n",
        "  n=x+1                                 #1999+1 從第2000年算起\n",
        "  if ((a%4 ==0)and(a%100!=0))or((a%4 ==0)and(a%400==0)):    #4年一次 100年沒有 400年有\n",
        "    y=year.append(int(x+1))                  #是的加到串列\n",
        "  else:\n",
        "    continue   #不是的跳過，繼續執行下一個迴圏\n",
        "\n",
        "\n",
        "\n",
        "a=int(input(\"請輸入2000-2040年之間的年份:\"))  #請使用者輸入要的年份\n",
        "while (a<2000) or (a>2040):            #判斷是否在2000-2040之間，如果不是就請他重新輸入年份\n",
        "  a=int(input(\"請輸入2000-2040年之間的年份:\"))\n",
        "\n",
        "#當值在2000-2040之間時，判斷它是否為閏年\n",
        "\n",
        "if a in year:\n",
        "  print(\"%d年是閏年!\" %a)\n",
        "else:\n",
        "  print(\"%d年不是閏年!\" %a)\n",
        "\n"
      ],
      "execution_count": 39,
      "outputs": [
        {
          "output_type": "stream",
          "text": [
            "請輸入2000-2040年之間的年份:1980\n",
            "請輸入2000-2040年之間的年份:2080\n",
            "請輸入2000-2040年之間的年份:2000\n",
            "2000年是閏年!\n"
          ],
          "name": "stdout"
        }
      ]
    }
  ]
}