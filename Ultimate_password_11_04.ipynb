{
  "nbformat": 4,
  "nbformat_minor": 0,
  "metadata": {
    "colab": {
      "name": " Ultimate password 11/04.ipynb",
      "provenance": [],
      "authorship_tag": "ABX9TyPBxmyo0oq6tPNLRdit0Tg9",
      "include_colab_link": true
    },
    "kernelspec": {
      "name": "python3",
      "display_name": "Python 3"
    }
  },
  "cells": [
    {
      "cell_type": "markdown",
      "metadata": {
        "id": "view-in-github",
        "colab_type": "text"
      },
      "source": [
        "<a href=\"https://colab.research.google.com/github/YuTTsai/S10755018-Sort/blob/master/Ultimate_password_11_04.ipynb\" target=\"_parent\"><img src=\"https://colab.research.google.com/assets/colab-badge.svg\" alt=\"Open In Colab\"/></a>"
      ]
    },
    {
      "cell_type": "code",
      "metadata": {
        "id": "tSJiaTtgEk1z",
        "outputId": "300bf9cd-7ff3-49b6-a253-9d22e7c1c96e",
        "colab": {
          "base_uri": "https://localhost:8080/"
        }
      },
      "source": [
        "#終極密碼\n",
        "\n",
        "import random\n",
        "\n",
        "print(\"終極密碼 請猜1-100的整數\")\n",
        "x=int(input(\"請猜數字：\"))\n",
        "\n",
        "y=int(random.randint(1,100))\n",
        "\n",
        "while x!=y:\n",
        "  print(x)\n",
        "  print(y)\n",
        "\n",
        "  a=int(0)\n",
        "  if x>a:\n",
        "    a=x\n",
        "    print(a)\n",
        "  b=int(100)\n",
        "  if x<b:\n",
        "    b=x\n",
        "    print(b)\n",
        "\n",
        "  if x>y :\n",
        "    print(\"數字介於\",a ,\"-\",x)\n",
        "  else :\n",
        "    print(\"數字介於\",x ,\"-\",b)\n",
        "  x=int(input(\"請在猜一次數字：\"))\n",
        "  if x==y:\n",
        "    break\n",
        "\n",
        "\n",
        "\n",
        "\n",
        "print(\"恭喜您猜對了密碼 %d\" %y)\n",
        "\n",
        "print(y)\n",
        "\n"
      ],
      "execution_count": 56,
      "outputs": [
        {
          "output_type": "stream",
          "text": [
            "終極密碼 請猜1-100的整數\n",
            "請猜數字：7\n",
            "7\n",
            "22\n",
            "7\n",
            "7\n",
            "數字介於 7 - 7\n",
            "請在猜一次數字：22\n",
            "恭喜您猜對了密碼 22\n",
            "22\n"
          ],
          "name": "stdout"
        }
      ]
    }
  ]
}