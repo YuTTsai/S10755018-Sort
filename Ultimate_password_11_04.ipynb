{
  "nbformat": 4,
  "nbformat_minor": 0,
  "metadata": {
    "colab": {
      "name": " Ultimate password 11/04.ipynb",
      "provenance": [],
      "authorship_tag": "ABX9TyMa9dwH4kACCayJ0qd03xTf",
      "include_colab_link": true
    },
    "kernelspec": {
      "name": "python3",
      "display_name": "Python 3"
    }
  },
  "cells": [
    {
      "cell_type": "markdown",
      "metadata": {
        "id": "view-in-github",
        "colab_type": "text"
      },
      "source": [
        "<a href=\"https://colab.research.google.com/github/YuTTsai/S10755018-Sort/blob/master/Ultimate_password_11_04.ipynb\" target=\"_parent\"><img src=\"https://colab.research.google.com/assets/colab-badge.svg\" alt=\"Open In Colab\"/></a>"
      ]
    },
    {
      "cell_type": "code",
      "metadata": {
        "id": "tSJiaTtgEk1z",
        "outputId": "741a170d-8edb-49a9-a940-dff2eb1b9142",
        "colab": {
          "base_uri": "https://localhost:8080/"
        }
      },
      "source": [
        "#終極密碼\n",
        "\n",
        "import random\n",
        "\n",
        "print(\"終極密碼 請猜1-100的整數\")\n",
        "x=int(input(\"請猜數字：\"))\n",
        "\n",
        "y=int(random.randint(1,100))\n",
        "\n",
        "a=int(0)   #要放在迴圈外!要放在迴圈外!要放在迴圈外! #不然會一直回到0和100\n",
        "b=int(100)  #要放在迴圈外!要放在迴圈外!要放在迴圈外! #不然會一直回到0和100\n",
        "\n",
        "while x!=y:\n",
        "  #print(x)    #5\n",
        "  #print(y)    #10\n",
        "\n",
        "  \n",
        "  if x>a and x<y:    #5\n",
        "    a=x\n",
        "    print(a)\n",
        "  elif x<b and x>y:\n",
        "    b=x\n",
        "    print(b)\n",
        "\n",
        "  if x>y :\n",
        "    print(\"數字介於\",a ,\"-\",x)    #5-100\n",
        "  else :\n",
        "    print(\"數字介於\",x ,\"-\",b)\n",
        "  x=int(input(\"請在猜一次數字：\"))\n",
        "  if x==y:\n",
        "    break\n",
        "\n",
        "\n",
        "\n",
        "\n",
        "print(\"恭喜您猜對了密碼 %d\" %y)\n",
        "\n",
        "print(y)\n",
        "\n"
      ],
      "execution_count": 67,
      "outputs": [
        {
          "output_type": "stream",
          "text": [
            "終極密碼 請猜1-100的整數\n",
            "請猜數字：5\n",
            "5\n",
            "數字介於 5 - 100\n",
            "請在猜一次數字：40\n",
            "40\n",
            "數字介於 40 - 100\n",
            "請在猜一次數字：60\n",
            "60\n",
            "數字介於 60 - 100\n",
            "請在猜一次數字：80\n",
            "80\n",
            "數字介於 60 - 80\n",
            "請在猜一次數字：75\n",
            "75\n",
            "數字介於 60 - 75\n",
            "請在猜一次數字：65\n",
            "65\n",
            "數字介於 65 - 75\n",
            "請在猜一次數字：68\n",
            "68\n",
            "數字介於 68 - 75\n",
            "請在猜一次數字：70\n",
            "70\n",
            "數字介於 70 - 75\n",
            "請在猜一次數字：73\n",
            "73\n",
            "數字介於 70 - 73\n",
            "請在猜一次數字：72\n",
            "恭喜您猜對了密碼 72\n",
            "72\n"
          ],
          "name": "stdout"
        }
      ]
    }
  ]
}