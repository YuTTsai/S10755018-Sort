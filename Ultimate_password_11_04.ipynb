{
  "nbformat": 4,
  "nbformat_minor": 0,
  "metadata": {
    "colab": {
      "name": " Ultimate password 11/04.ipynb",
      "provenance": [],
      "authorship_tag": "ABX9TyNFC7sjd7drzM+PAKbT5nBB",
      "include_colab_link": true
    },
    "kernelspec": {
      "name": "python3",
      "display_name": "Python 3"
    }
  },
  "cells": [
    {
      "cell_type": "markdown",
      "metadata": {
        "id": "view-in-github",
        "colab_type": "text"
      },
      "source": [
        "<a href=\"https://colab.research.google.com/github/YuTTsai/S10755018-Sort/blob/master/Ultimate_password_11_04.ipynb\" target=\"_parent\"><img src=\"https://colab.research.google.com/assets/colab-badge.svg\" alt=\"Open In Colab\"/></a>"
      ]
    },
    {
      "cell_type": "code",
      "metadata": {
        "id": "tSJiaTtgEk1z",
        "outputId": "cb91ef9d-8003-461a-98d9-63745cff9fba",
        "colab": {
          "base_uri": "https://localhost:8080/",
          "height": 130
        }
      },
      "source": [
        "#終極密碼\n",
        "\n",
        "import random\n",
        "\n",
        "print(\"終極密碼\")\n",
        "x=input(\"請猜數字：\")\n",
        "\n",
        "y=random.randint(1,10)\n",
        "\n",
        "if y=x:\n",
        "  print(\"恭喜您猜對了密碼 %d\" y)\n",
        "\n",
        "print(y)\n",
        "\n"
      ],
      "execution_count": 9,
      "outputs": [
        {
          "output_type": "error",
          "ename": "SyntaxError",
          "evalue": "ignored",
          "traceback": [
            "\u001b[0;36m  File \u001b[0;32m\"<ipython-input-9-172a4ff9749b>\"\u001b[0;36m, line \u001b[0;32m10\u001b[0m\n\u001b[0;31m    if y=x:\u001b[0m\n\u001b[0m        ^\u001b[0m\n\u001b[0;31mSyntaxError\u001b[0m\u001b[0;31m:\u001b[0m invalid syntax\n"
          ]
        }
      ]
    }
  ]
}