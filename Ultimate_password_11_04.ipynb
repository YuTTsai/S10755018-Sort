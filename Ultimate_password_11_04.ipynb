{
  "nbformat": 4,
  "nbformat_minor": 0,
  "metadata": {
    "colab": {
      "name": " Ultimate password 11/04.ipynb",
      "provenance": [],
      "authorship_tag": "ABX9TyOQ2u9uN3F1iTfHHq4sLP7B",
      "include_colab_link": true
    },
    "kernelspec": {
      "name": "python3",
      "display_name": "Python 3"
    }
  },
  "cells": [
    {
      "cell_type": "markdown",
      "metadata": {
        "id": "view-in-github",
        "colab_type": "text"
      },
      "source": [
        "<a href=\"https://colab.research.google.com/github/YuTTsai/S10755018-Sort/blob/master/Ultimate_password_11_04.ipynb\" target=\"_parent\"><img src=\"https://colab.research.google.com/assets/colab-badge.svg\" alt=\"Open In Colab\"/></a>"
      ]
    },
    {
      "cell_type": "code",
      "metadata": {
        "id": "tSJiaTtgEk1z",
        "outputId": "554e8698-4c8d-4375-a632-3f10caa90875",
        "colab": {
          "base_uri": "https://localhost:8080/",
          "height": 297
        }
      },
      "source": [
        "#終極密碼\n",
        "\n",
        "import random\n",
        "\n",
        "print(\"終極密碼 請猜1-100的整數\")\n",
        "x=int(input(\"請猜數字：\"))\n",
        "\n",
        "y=int(random.randint(1,100))\n",
        "\n",
        "while x!=y:\n",
        "  print(x)\n",
        "  print(y)\n",
        "\n",
        "  a=int(0)\n",
        "  if a<x:\n",
        "    a=x\n",
        "  b=int(100)\n",
        "  if b>x:\n",
        "    b=x\n",
        "\n",
        "  if x>y :\n",
        "    print(\"數字介於%d-%d\" %a %x)\n",
        "  else :\n",
        "    print(\"數字介於%d-%d\"%x %b)\n",
        "  x=int(input(\"請在猜一次數字：\"))\n",
        "  if x==y:\n",
        "    break\n",
        "\n",
        "\n",
        "\n",
        "\n",
        "print(\"恭喜您猜對了密碼 %d\" %y)\n",
        "\n",
        "print(y)\n",
        "\n"
      ],
      "execution_count": 46,
      "outputs": [
        {
          "output_type": "stream",
          "text": [
            "終極密碼 請猜1-100的整數\n",
            "請猜數字：8\n",
            "8\n",
            "35\n"
          ],
          "name": "stdout"
        },
        {
          "output_type": "error",
          "ename": "TypeError",
          "evalue": "ignored",
          "traceback": [
            "\u001b[0;31m---------------------------------------------------------------------------\u001b[0m",
            "\u001b[0;31mTypeError\u001b[0m                                 Traceback (most recent call last)",
            "\u001b[0;32m<ipython-input-46-517b67c34bef>\u001b[0m in \u001b[0;36m<module>\u001b[0;34m()\u001b[0m\n\u001b[1;32m     22\u001b[0m     \u001b[0mprint\u001b[0m\u001b[0;34m(\u001b[0m\u001b[0;34m\"數字介於%d-%d\"\u001b[0m \u001b[0;34m%\u001b[0m\u001b[0ma\u001b[0m \u001b[0;34m%\u001b[0m\u001b[0mx\u001b[0m\u001b[0;34m)\u001b[0m\u001b[0;34m\u001b[0m\u001b[0;34m\u001b[0m\u001b[0m\n\u001b[1;32m     23\u001b[0m   \u001b[0;32melse\u001b[0m \u001b[0;34m:\u001b[0m\u001b[0;34m\u001b[0m\u001b[0;34m\u001b[0m\u001b[0m\n\u001b[0;32m---> 24\u001b[0;31m     \u001b[0mprint\u001b[0m\u001b[0;34m(\u001b[0m\u001b[0;34m\"數字介於%d-%d\"\u001b[0m\u001b[0;34m%\u001b[0m\u001b[0mx\u001b[0m \u001b[0;34m%\u001b[0m\u001b[0mb\u001b[0m\u001b[0;34m)\u001b[0m\u001b[0;34m\u001b[0m\u001b[0;34m\u001b[0m\u001b[0m\n\u001b[0m\u001b[1;32m     25\u001b[0m   \u001b[0mx\u001b[0m\u001b[0;34m=\u001b[0m\u001b[0mint\u001b[0m\u001b[0;34m(\u001b[0m\u001b[0minput\u001b[0m\u001b[0;34m(\u001b[0m\u001b[0;34m\"請在猜一次數字：\"\u001b[0m\u001b[0;34m)\u001b[0m\u001b[0;34m)\u001b[0m\u001b[0;34m\u001b[0m\u001b[0;34m\u001b[0m\u001b[0m\n\u001b[1;32m     26\u001b[0m   \u001b[0;32mif\u001b[0m \u001b[0mx\u001b[0m\u001b[0;34m==\u001b[0m\u001b[0my\u001b[0m\u001b[0;34m:\u001b[0m\u001b[0;34m\u001b[0m\u001b[0;34m\u001b[0m\u001b[0m\n",
            "\u001b[0;31mTypeError\u001b[0m: not enough arguments for format string"
          ]
        }
      ]
    }
  ]
}