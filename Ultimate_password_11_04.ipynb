{
  "nbformat": 4,
  "nbformat_minor": 0,
  "metadata": {
    "colab": {
      "name": " Ultimate password 11/04.ipynb",
      "provenance": [],
      "authorship_tag": "ABX9TyOS48WomAz8qmee39qr03uH",
      "include_colab_link": true
    },
    "kernelspec": {
      "name": "python3",
      "display_name": "Python 3"
    }
  },
  "cells": [
    {
      "cell_type": "markdown",
      "metadata": {
        "id": "view-in-github",
        "colab_type": "text"
      },
      "source": [
        "<a href=\"https://colab.research.google.com/github/YuTTsai/S10755018-Sort/blob/master/Ultimate_password_11_04.ipynb\" target=\"_parent\"><img src=\"https://colab.research.google.com/assets/colab-badge.svg\" alt=\"Open In Colab\"/></a>"
      ]
    },
    {
      "cell_type": "code",
      "metadata": {
        "id": "tSJiaTtgEk1z",
        "outputId": "f6b1e480-2f23-4691-98c6-a16ba95b1fbd",
        "colab": {
          "base_uri": "https://localhost:8080/",
          "height": 130
        }
      },
      "source": [
        "#終極密碼\n",
        "\n",
        "import random\n",
        "\n",
        "print(\"終極密碼 請猜1-100的整數\")\n",
        "x=int(input(\"請猜數字：\"))\n",
        "\n",
        "y=int(random.randint(1,100))\n",
        "\n",
        "while x!=y:\n",
        "  print(x)\n",
        "  print(y)\n",
        "\n",
        "  a=int(0)\n",
        "  if a<x:\n",
        "    a=x\n",
        "    print(a)\n",
        "  b=int(100)\n",
        "  if b>x:\n",
        "    b=x\n",
        "    print(b)\n",
        "\n",
        "  if x>y :\n",
        "    print(\"數字介於%d-%d\",%a,%x)\n",
        "  else :\n",
        "    print(\"數字介於%d-%d\",%x,%b)\n",
        "  x=int(input(\"請在猜一次數字：\"))\n",
        "  if x==y:\n",
        "    break\n",
        "\n",
        "\n",
        "\n",
        "\n",
        "print(\"恭喜您猜對了密碼 %d\" %y)\n",
        "\n",
        "print(y)\n",
        "\n"
      ],
      "execution_count": 50,
      "outputs": [
        {
          "output_type": "error",
          "ename": "SyntaxError",
          "evalue": "ignored",
          "traceback": [
            "\u001b[0;36m  File \u001b[0;32m\"<ipython-input-50-4de31b795ee3>\"\u001b[0;36m, line \u001b[0;32m24\u001b[0m\n\u001b[0;31m    print(\"數字介於%d-%d\",%a,%x)\u001b[0m\n\u001b[0m                      ^\u001b[0m\n\u001b[0;31mSyntaxError\u001b[0m\u001b[0;31m:\u001b[0m invalid syntax\n"
          ]
        }
      ]
    }
  ]
}