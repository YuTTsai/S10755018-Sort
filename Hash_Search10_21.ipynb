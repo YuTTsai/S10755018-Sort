{
  "nbformat": 4,
  "nbformat_minor": 0,
  "metadata": {
    "colab": {
      "name": "Hash Search10/21.ipynb",
      "provenance": [],
      "authorship_tag": "ABX9TyNOJ81K+aRKc+5uJ0cUBd0a",
      "include_colab_link": true
    },
    "kernelspec": {
      "name": "python3",
      "display_name": "Python 3"
    }
  },
  "cells": [
    {
      "cell_type": "markdown",
      "metadata": {
        "id": "view-in-github",
        "colab_type": "text"
      },
      "source": [
        "<a href=\"https://colab.research.google.com/github/YuTTsai/S10755018-Sort/blob/master/Hash_Search10_21.ipynb\" target=\"_parent\"><img src=\"https://colab.research.google.com/assets/colab-badge.svg\" alt=\"Open In Colab\"/></a>"
      ]
    },
    {
      "cell_type": "code",
      "metadata": {
        "id": "AmD3LurwENo_",
        "outputId": "36be8cb0-d02b-4a0c-f2e9-2d0419101fee",
        "colab": {
          "base_uri": "https://localhost:8080/",
          "height": 217
        }
      },
      "source": [
        "#線性探測法 ( linear probing ) \n",
        "import random\n",
        "\n",
        "INDEXBOX=10\n",
        "MAXNUM=7\n",
        "\n",
        "def print_data(data,max_number):\n",
        "  print(\"\\t\",end=\"\")\n",
        "  for i in range(max_number):\n",
        "    print(\"[%2d]\"%data[i],end=\"\")\n",
        "  print()\n",
        "\n",
        "def create_table(num,index):\n",
        "  tmp=num%INDEXBOX\n",
        "  while True:\n",
        "    if index[tmp]==-1:\n",
        "      index[tmp]=num\n",
        "      break\n",
        "    else:\n",
        "      tmp=(tmp+1)%INDEXBOX\n",
        "\n",
        "#Main\n",
        "index=[None]*INDEXBOX\n",
        "data=[None]*MAXNUM\n",
        "\n",
        "print('原始陣列值')\n",
        "for i in range(MAXNUM):\n",
        "  data[i]=random.randint(1,20)\n",
        "for i in range(INDEXBOX):\n",
        "  index[i]=-1\n",
        "print_data(data,MAXNUM)\n",
        "print('雜湊表內容')\n",
        "for i in range(MAXNUM):\n",
        "    create_table(data[i],index)\n",
        "    print('%2d=>'%data[i],end='')\n",
        "    print_data(index,INDEXBOX)\n",
        "print('完成雜湊表')\n",
        "print_data(index,INDEXBOX)"
      ],
      "execution_count": 6,
      "outputs": [
        {
          "output_type": "stream",
          "text": [
            "原始陣列值\n",
            "\t[16][17][ 9][ 6][ 2][15][ 9]\n",
            "雜湊表內容\n",
            "16=>\t[-1][-1][-1][-1][-1][-1][16][-1][-1][-1]\n",
            "17=>\t[-1][-1][-1][-1][-1][-1][16][17][-1][-1]\n",
            " 9=>\t[-1][-1][-1][-1][-1][-1][16][17][-1][ 9]\n",
            " 6=>\t[-1][-1][-1][-1][-1][-1][16][17][ 6][ 9]\n",
            " 2=>\t[-1][-1][ 2][-1][-1][-1][16][17][ 6][ 9]\n",
            "15=>\t[-1][-1][ 2][-1][-1][15][16][17][ 6][ 9]\n",
            " 9=>\t[ 9][-1][ 2][-1][-1][15][16][17][ 6][ 9]\n",
            "完成雜湊表\n",
            "\t[ 9][-1][ 2][-1][-1][15][16][17][ 6][ 9]\n"
          ],
          "name": "stdout"
        }
      ]
    },
    {
      "cell_type": "code",
      "metadata": {
        "id": "475oT7vYBDi2",
        "outputId": "9c3f8771-5c00-4b15-d400-df63859eff4d",
        "colab": {
          "base_uri": "https://localhost:8080/",
          "height": 217
        }
      },
      "source": [
        "#平⽅探測 ( quadratic probing ) \n",
        "import random\n",
        "\n",
        "INDEXBOX=10\n",
        "MAXNUM=7\n",
        "\n",
        "def print_data(data,max_number):\n",
        "  print(\"\\t\",end=\"\")\n",
        "  for i in range(max_number):\n",
        "    print(\"[%2d]\"%data[i],end=\"\")\n",
        "  print()\n",
        "\n",
        "def create_table(num,index):\n",
        "  tmp=num%INDEXBOX\n",
        "  n=0\n",
        "  while True:\n",
        "                 #每次都重新計算n\n",
        "    if index[tmp]==-1:\n",
        "      index[tmp]=num\n",
        "      break\n",
        "    else:\n",
        "      tmp=num%INDEXBOX   #讓餘數回歸到原本的餘數\n",
        "      if (n==0):\n",
        "        n=n+1\n",
        "        tmp=(tmp+n**2)%INDEXBOX\n",
        "        #tmp=((tmp%INDEXBOX)+n**2)%INDEXBOX   #先取餘數在加碰撞次數的平方\n",
        "        \n",
        "      else:\n",
        "        n=n+1\n",
        "        tmp=(tmp+n**2)%INDEXBOX\n",
        "        #tmp=((tmp%INDEXBOX)+n**2)%INDEXBOX\n",
        "        \n",
        "      \n",
        "\n",
        "#Main\n",
        "index=[None]*INDEXBOX\n",
        "data=[None]*MAXNUM\n",
        "\n",
        "print('原始陣列值')\n",
        "for i in range(MAXNUM):\n",
        "  data[i]=random.randint(1,20)\n",
        "for i in range(INDEXBOX):\n",
        "  index[i]=-1\n",
        "print_data(data,MAXNUM)\n",
        "print('雜湊表內容')\n",
        "for i in range(MAXNUM):\n",
        "    create_table(data[i],index)\n",
        "    print('%2d=>'%data[i],end='')\n",
        "    print_data(index,INDEXBOX)\n",
        "print('完成雜湊表')\n",
        "print_data(index,INDEXBOX)\n"
      ],
      "execution_count": 62,
      "outputs": [
        {
          "output_type": "stream",
          "text": [
            "原始陣列值\n",
            "\t[ 5][13][13][14][10][11][16]\n",
            "雜湊表內容\n",
            " 5=>\t[-1][-1][-1][-1][-1][ 5][-1][-1][-1][-1]\n",
            "13=>\t[-1][-1][-1][13][-1][ 5][-1][-1][-1][-1]\n",
            "13=>\t[-1][-1][-1][13][13][ 5][-1][-1][-1][-1]\n",
            "14=>\t[-1][-1][-1][13][13][ 5][-1][-1][14][-1]\n",
            "10=>\t[10][-1][-1][13][13][ 5][-1][-1][14][-1]\n",
            "11=>\t[10][11][-1][13][13][ 5][-1][-1][14][-1]\n",
            "16=>\t[10][11][-1][13][13][ 5][16][-1][14][-1]\n",
            "完成雜湊表\n",
            "\t[10][11][-1][13][13][ 5][16][-1][14][-1]\n"
          ],
          "name": "stdout"
        }
      ]
    },
    {
      "cell_type": "code",
      "metadata": {
        "id": "7bkSlflwEAzR"
      },
      "source": [
        "# 再雜湊 ( rehashing ) \n",
        "import random\n",
        "\n",
        "INDEXBOX=10\n",
        "MAXNUM=7\n",
        "\n",
        "def print_data(data,max_number):\n",
        "  print(\"\\t\",end=\"\")\n",
        "  for i in range(max_number):\n",
        "    print(\"[%2d]\"%data[i],end=\"\")\n",
        "  print()\n",
        "\n",
        "def create_table(num,index):\n",
        "  tmp=num%INDEXBOX\n",
        "  while True:\n",
        "    if index[tmp]==-1:\n",
        "      index[tmp]=num\n",
        "      break\n",
        "    else:\n",
        "      tmp=(tmp+1)%INDEXBOX\n",
        "\n",
        "#Main\n",
        "index=[None]*INDEXBOX\n",
        "data=[None]*MAXNUM\n",
        "\n",
        "print('原始陣列值')\n",
        "for i in range(MAXNUM):\n",
        "  data[i]=random.randint(1,20)\n",
        "for i in range(INDEXBOX):\n",
        "  index[i]=-1\n",
        "print_data(data,MAXNUM)\n",
        "print('雜湊表內容')\n",
        "for i in range(MAXNUM):\n",
        "    create_table(data[i],index)\n",
        "    print('%2d=>'%data[i],end='')\n",
        "    print_data(index,INDEXBOX)\n",
        "print('完成雜湊表')\n",
        "print_data(index,INDEXBOX)\n"
      ],
      "execution_count": null,
      "outputs": []
    }
  ]
}