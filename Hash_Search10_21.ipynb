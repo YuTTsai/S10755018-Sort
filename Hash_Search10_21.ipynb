{
  "nbformat": 4,
  "nbformat_minor": 0,
  "metadata": {
    "colab": {
      "name": "Hash Search10/21.ipynb",
      "provenance": [],
      "authorship_tag": "ABX9TyPJmRSb3GIOWnXBzNZ+D4kH",
      "include_colab_link": true
    },
    "kernelspec": {
      "name": "python3",
      "display_name": "Python 3"
    }
  },
  "cells": [
    {
      "cell_type": "markdown",
      "metadata": {
        "id": "view-in-github",
        "colab_type": "text"
      },
      "source": [
        "<a href=\"https://colab.research.google.com/github/YuTTsai/S10755018-Sort/blob/master/Hash_Search10_21.ipynb\" target=\"_parent\"><img src=\"https://colab.research.google.com/assets/colab-badge.svg\" alt=\"Open In Colab\"/></a>"
      ]
    },
    {
      "cell_type": "code",
      "metadata": {
        "id": "AmD3LurwENo_",
        "outputId": "49be3514-c1dc-45ea-cb8b-994106c87f69",
        "colab": {
          "base_uri": "https://localhost:8080/",
          "height": 217
        }
      },
      "source": [
        "#線性探測法 ( linear probing ) \n",
        "import random\n",
        "\n",
        "INDEXBOX=10\n",
        "MAXNUM=7\n",
        "\n",
        "def print_data(data,max_number):\n",
        "  print(\"\\t\",end=\"\")\n",
        "  for i in range(max_number):\n",
        "    print(\"[%2d]\"%data[i],end=\"\")\n",
        "  print()\n",
        "\n",
        "def create_table(num,index):\n",
        "  tmp=num%INDEXBOX\n",
        "  while True:\n",
        "    if index[tmp]==-1:\n",
        "      index[tmp]=num\n",
        "      break\n",
        "    else:\n",
        "      tmp=(tmp+1)%INDEXBOX\n",
        "\n",
        "#Main\n",
        "index=[None]*INDEXBOX\n",
        "data=[None]*MAXNUM\n",
        "\n",
        "print('原始陣列值')\n",
        "for i in range(MAXNUM):\n",
        "  data[i]=random.randint(1,20)\n",
        "for i in range(INDEXBOX):\n",
        "  index[i]=-1\n",
        "print_data(data,MAXNUM)\n",
        "print('雜湊表內容')\n",
        "for i in range(MAXNUM):\n",
        "    create_table(data[i],index)\n",
        "    print('%2d=>'%data[i],end='')\n",
        "    print_data(index,INDEXBOX)\n",
        "print('完成雜湊表')\n",
        "print_data(index,INDEXBOX)"
      ],
      "execution_count": 4,
      "outputs": [
        {
          "output_type": "stream",
          "text": [
            "原始陣列值\n",
            "\t[16][20][20][ 6][14][19][20]\n",
            "雜湊表內容\n",
            "16=>\t[-1][-1][-1][-1][-1][-1][16][-1][-1][-1]\n",
            "20=>\t[20][-1][-1][-1][-1][-1][16][-1][-1][-1]\n",
            "20=>\t[20][20][-1][-1][-1][-1][16][-1][-1][-1]\n",
            " 6=>\t[20][20][-1][-1][-1][-1][16][ 6][-1][-1]\n",
            "14=>\t[20][20][-1][-1][14][-1][16][ 6][-1][-1]\n",
            "19=>\t[20][20][-1][-1][14][-1][16][ 6][-1][19]\n",
            "20=>\t[20][20][20][-1][14][-1][16][ 6][-1][19]\n",
            "完成雜湊表\n",
            "\t[20][20][20][-1][14][-1][16][ 6][-1][19]\n"
          ],
          "name": "stdout"
        }
      ]
    },
    {
      "cell_type": "code",
      "metadata": {
        "id": "475oT7vYBDi2",
        "outputId": "c798d0e9-ddfb-498d-fb17-28358393945a",
        "colab": {
          "base_uri": "https://localhost:8080/",
          "height": 217
        }
      },
      "source": [
        "#平⽅探測 ( quadratic probing ) \n",
        "import random\n",
        "\n",
        "INDEXBOX=10\n",
        "MAXNUM=7\n",
        "\n",
        "def print_data(data,max_number):\n",
        "  print(\"\\t\",end=\"\")\n",
        "  for i in range(max_number):\n",
        "    print(\"[%2d]\"%data[i],end=\"\")\n",
        "  print()\n",
        "\n",
        "def create_table(num,index):\n",
        "  tmp=num%INDEXBOX\n",
        "  while True:\n",
        "    if index[tmp]==-1:\n",
        "      index[tmp]=num\n",
        "      break\n",
        "    else:\n",
        "      tmp=(tmp+1)%INDEXBOX\n",
        "\n",
        "#Main\n",
        "index=[None]*INDEXBOX\n",
        "data=[None]*MAXNUM\n",
        "\n",
        "print('原始陣列值')\n",
        "for i in range(MAXNUM):\n",
        "  data[i]=random.randint(1,20)\n",
        "for i in range(INDEXBOX):\n",
        "  index[i]=-1\n",
        "print_data(data,MAXNUM)\n",
        "print('雜湊表內容')\n",
        "for i in range(MAXNUM):\n",
        "    create_table(data[i],index)\n",
        "    print('%2d=>'%data[i],end='')\n",
        "    print_data(index,INDEXBOX)\n",
        "print('完成雜湊表')\n",
        "print_data(index,INDEXBOX)\n"
      ],
      "execution_count": 3,
      "outputs": [
        {
          "output_type": "stream",
          "text": [
            "原始陣列值\n",
            "\t[19][20][ 3][15][ 5][17][11]\n",
            "雜湊表內容\n",
            "19=>\t[-1][-1][-1][-1][-1][-1][-1][-1][-1][19]\n",
            "20=>\t[20][-1][-1][-1][-1][-1][-1][-1][-1][19]\n",
            " 3=>\t[20][-1][-1][ 3][-1][-1][-1][-1][-1][19]\n",
            "15=>\t[20][-1][-1][ 3][-1][15][-1][-1][-1][19]\n",
            " 5=>\t[20][-1][-1][ 3][-1][15][ 5][-1][-1][19]\n",
            "17=>\t[20][-1][-1][ 3][-1][15][ 5][17][-1][19]\n",
            "11=>\t[20][11][-1][ 3][-1][15][ 5][17][-1][19]\n",
            "完成雜湊表\n",
            "\t[20][11][-1][ 3][-1][15][ 5][17][-1][19]\n"
          ],
          "name": "stdout"
        }
      ]
    },
    {
      "cell_type": "code",
      "metadata": {
        "id": "7bkSlflwEAzR"
      },
      "source": [
        "# 再雜湊 ( rehashing ) \n",
        "import random\n",
        "\n",
        "INDEXBOX=10\n",
        "MAXNUM=7\n",
        "\n",
        "def print_data(data,max_number):\n",
        "  print(\"\\t\",end=\"\")\n",
        "  for i in range(max_number):\n",
        "    print(\"[%2d]\"%data[i],end=\"\")\n",
        "  print()\n",
        "\n",
        "def create_table(num,index):\n",
        "  tmp=num%INDEXBOX\n",
        "  while True:\n",
        "    if index[tmp]==-1:\n",
        "      index[tmp]=num\n",
        "      break\n",
        "    else:\n",
        "      tmp=(tmp+1)%INDEXBOX\n",
        "\n",
        "#Main\n",
        "index=[None]*INDEXBOX\n",
        "data=[None]*MAXNUM\n",
        "\n",
        "print('原始陣列值')\n",
        "for i in range(MAXNUM):\n",
        "  data[i]=random.randint(1,20)\n",
        "for i in range(INDEXBOX):\n",
        "  index[i]=-1\n",
        "print_data(data,MAXNUM)\n",
        "print('雜湊表內容')\n",
        "for i in range(MAXNUM):\n",
        "    create_table(data[i],index)\n",
        "    print('%2d=>'%data[i],end='')\n",
        "    print_data(index,INDEXBOX)\n",
        "print('完成雜湊表')\n",
        "print_data(index,INDEXBOX)\n"
      ],
      "execution_count": null,
      "outputs": []
    }
  ]
}