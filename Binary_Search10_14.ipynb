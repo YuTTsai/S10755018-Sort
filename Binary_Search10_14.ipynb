{
  "nbformat": 4,
  "nbformat_minor": 0,
  "metadata": {
    "colab": {
      "name": "Binary Search10/14",
      "provenance": [],
      "authorship_tag": "ABX9TyOv/ERHiOHZCem5QxYXP8kK",
      "include_colab_link": true
    },
    "kernelspec": {
      "name": "python3",
      "display_name": "Python 3"
    }
  },
  "cells": [
    {
      "cell_type": "markdown",
      "metadata": {
        "id": "view-in-github",
        "colab_type": "text"
      },
      "source": [
        "<a href=\"https://colab.research.google.com/github/YuTTsai/S10755018-Sort/blob/master/Binary_Search10_14.ipynb\" target=\"_parent\"><img src=\"https://colab.research.google.com/assets/colab-badge.svg\" alt=\"Open In Colab\"/></a>"
      ]
    },
    {
      "cell_type": "code",
      "metadata": {
        "id": "84k1la_r8all",
        "outputId": "78cd9a55-734e-4339-ea7d-17e73ec8fa91",
        "colab": {
          "base_uri": "https://localhost:8080/",
          "height": 33
        }
      },
      "source": [
        "def binarySearch(arr,l,r,x):\n",
        "\n",
        "  if r>=1:\n",
        "\n",
        "    mid = l +(r-l)//2\n",
        "    if arr[mid] == x:\n",
        "      return mid\n",
        "    elif arr[mid] >x:\n",
        "      return binarySearch(arr,l,mid-1,x)\n",
        "    else:\n",
        "      return binarySearch(arr,mid+1,r,x)\n",
        "  else:\n",
        "    return -1\n",
        "\n",
        "arr =[5,8,9,15,30]\n",
        "x=30\n",
        "\n",
        "result = binarySearch(arr,0,len(arr)-1,x)\n",
        "\n",
        "if result != -1:\n",
        "  print(\"元素在索引%d\"% result)\n",
        "else:\n",
        "  print(\"在陣列中找不到該元素\")\n"
      ],
      "execution_count": 5,
      "outputs": [
        {
          "output_type": "stream",
          "text": [
            "元素在索引4\n"
          ],
          "name": "stdout"
        }
      ]
    }
  ]
}