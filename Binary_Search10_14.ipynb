{
  "nbformat": 4,
  "nbformat_minor": 0,
  "metadata": {
    "colab": {
      "name": "Binary Search10/14",
      "provenance": [],
      "authorship_tag": "ABX9TyN3jdkYnhReMBveiSEH+T0e",
      "include_colab_link": true
    },
    "kernelspec": {
      "name": "python3",
      "display_name": "Python 3"
    }
  },
  "cells": [
    {
      "cell_type": "markdown",
      "metadata": {
        "id": "view-in-github",
        "colab_type": "text"
      },
      "source": [
        "<a href=\"https://colab.research.google.com/github/YuTTsai/S10755018-Sort/blob/master/Binary_Search10_14.ipynb\" target=\"_parent\"><img src=\"https://colab.research.google.com/assets/colab-badge.svg\" alt=\"Open In Colab\"/></a>"
      ]
    },
    {
      "cell_type": "code",
      "metadata": {
        "id": "84k1la_r8all",
        "outputId": "4a69998b-c0da-4a92-96d3-ff39ffd09fdf",
        "colab": {
          "base_uri": "https://localhost:8080/",
          "height": 268
        }
      },
      "source": [
        "def binarySearch(arr,l,r,x):\n",
        "\n",
        "  if r>=1:\n",
        "\n",
        "    mid = l +(r-l)//2\n",
        "    if arr[mid] == x:\n",
        "      return mid\n",
        "    elif arr[mid] >x:\n",
        "      return binarySearch(arr,l,mid-1,x)\n",
        "    else:\n",
        "      return binarySearch(arr,mid+1,r,x)\n",
        "  else:\n",
        "    return -1\n",
        "\n",
        "def Bubble_Sort(datas):\n",
        "    for i in range(1, len(datas)): # \n",
        "        for j in range(len(datas)-i):   # \n",
        "            if datas[j] > datas[j+1]:   # \n",
        "                datas[j], datas[j+1] = datas[j+1], datas[j]\n",
        "    return datas\n",
        "\n",
        "arr =[]\n",
        "\n",
        "for a in range(5):\n",
        "  print(\"請輸入五個數字\")\n",
        "  a=arr.append(int(input()))\n",
        "print(arr)\n",
        "\n",
        "d=Bubble_Sort(arr)\n",
        "\n",
        "\n",
        "print(d)\n",
        "\n",
        "\n",
        "x=int(input(\"請輸入key value:\"))\n",
        "print(x)\n",
        "\n",
        "result = binarySearch(arr,0,len(arr)-1,x)\n",
        "\n",
        "if result != -1:\n",
        "  print(\"元素在索引%d\"% result)\n",
        "else:\n",
        "  print(\"在陣列中找不到該元素\")\n"
      ],
      "execution_count": 19,
      "outputs": [
        {
          "output_type": "stream",
          "text": [
            "請輸入五個數字\n",
            "5\n",
            "請輸入五個數字\n",
            "3\n",
            "請輸入五個數字\n",
            "9\n",
            "請輸入五個數字\n",
            "6\n",
            "請輸入五個數字\n",
            "10\n",
            "[5, 3, 9, 6, 10]\n",
            "[3, 5, 6, 9, 10]\n",
            "請輸入key value:5\n",
            "5\n",
            "元素在索引1\n"
          ],
          "name": "stdout"
        }
      ]
    }
  ]
}