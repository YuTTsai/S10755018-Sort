{
  "nbformat": 4,
  "nbformat_minor": 0,
  "metadata": {
    "colab": {
      "name": "Binary Search10/14",
      "provenance": [],
      "authorship_tag": "ABX9TyN8tBxwdHfW9ez4lbTm/Phe",
      "include_colab_link": true
    },
    "kernelspec": {
      "name": "python3",
      "display_name": "Python 3"
    }
  },
  "cells": [
    {
      "cell_type": "markdown",
      "metadata": {
        "id": "view-in-github",
        "colab_type": "text"
      },
      "source": [
        "<a href=\"https://colab.research.google.com/github/YuTTsai/S10755018-Sort/blob/master/Binary_Search10_14.ipynb\" target=\"_parent\"><img src=\"https://colab.research.google.com/assets/colab-badge.svg\" alt=\"Open In Colab\"/></a>"
      ]
    },
    {
      "cell_type": "code",
      "metadata": {
        "id": "84k1la_r8all",
        "outputId": "83223d8c-b17d-4eea-cfdf-e9fcf76a1b7f",
        "colab": {
          "base_uri": "https://localhost:8080/",
          "height": 251
        }
      },
      "source": [
        "def binarySearch(arr,l,r,x):\n",
        "\n",
        "  if r>=1:\n",
        "\n",
        "    mid = l +(r-l)//2\n",
        "    if arr[mid] == x:\n",
        "      return mid\n",
        "    elif arr[mid] >x:\n",
        "      return binarySearch(arr,l,mid-1,x)\n",
        "    else:\n",
        "      return binarySearch(arr,mid+1,r,x)\n",
        "  else:\n",
        "    return -1\n",
        "\n",
        "arr =[]\n",
        "\n",
        "for a in range(5):\n",
        "  print(\"請輸入五個數字\")\n",
        "  a=arr.append(int(input()))\n",
        "print(arr)\n",
        "x=int(input(\"請輸入key value:\"))\n",
        "print(x)\n",
        "\n",
        "result = binarySearch(arr,0,len(arr)-1,x)\n",
        "\n",
        "if result != -1:\n",
        "  print(\"元素在索引%d\"% result)\n",
        "else:\n",
        "  print(\"在陣列中找不到該元素\")\n"
      ],
      "execution_count": 12,
      "outputs": [
        {
          "output_type": "stream",
          "text": [
            "請輸入五個數字\n",
            "5\n",
            "請輸入五個數字\n",
            "3\n",
            "請輸入五個數字\n",
            "7\n",
            "請輸入五個數字\n",
            "8\n",
            "請輸入五個數字\n",
            "9\n",
            "[5, 3, 7, 8, 9]\n",
            "請輸入key value5\n",
            "5\n",
            "元素在索引0\n"
          ],
          "name": "stdout"
        }
      ]
    }
  ]
}