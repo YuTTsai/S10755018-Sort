{
  "nbformat": 4,
  "nbformat_minor": 0,
  "metadata": {
    "colab": {
      "name": "insertionsort.ipynb",
      "provenance": [],
      "collapsed_sections": [],
      "include_colab_link": true
    },
    "kernelspec": {
      "name": "python3",
      "display_name": "Python 3"
    }
  },
  "cells": [
    {
      "cell_type": "markdown",
      "metadata": {
        "id": "view-in-github",
        "colab_type": "text"
      },
      "source": [
        "<a href=\"https://colab.research.google.com/github/YuTTsai/S10755018-Sort/blob/master/insertionsort0930.ipynb\" target=\"_parent\"><img src=\"https://colab.research.google.com/assets/colab-badge.svg\" alt=\"Open In Colab\"/></a>"
      ]
    },
    {
      "cell_type": "markdown",
      "metadata": {
        "id": "j95w6SLwOC0z"
      },
      "source": [
        "Insertion sort (插入排序)"
      ]
    },
    {
      "cell_type": "code",
      "metadata": {
        "id": "BxBaYEwzNj_v",
        "outputId": "0eac3f78-b557-47e0-b8f7-08091c248aa7",
        "colab": {
          "base_uri": "https://localhost:8080/",
          "height": 316
        }
      },
      "source": [
        "\n",
        "def Insertion_Sort(datas):\n",
        "    for i in range(1, len(datas)):           # n 次\n",
        "        for j in range(i):             # \n",
        "            current = datas[i]          # \n",
        "            if current < datas[j]:       # \n",
        "                for k in range(i,j):\n",
        "                  print(datas)        # 1 次 (也可不算\n",
        "    return datas\n",
        "\n",
        "\n",
        "def insertionSort(arr):\n",
        "    for i in range(len(arr)):\n",
        "        preIndex = i-1\n",
        "        current = arr[i]\n",
        "        while preIndex >= 0 and arr[preIndex] > current:\n",
        "            arr[preIndex+1] = arr[preIndex]\n",
        "            preIndex-=1\n",
        "        arr[preIndex+1] = current\n",
        "        print(arr)\n",
        "    return arr\n",
        "\n",
        "if __name__ == '__main__':\n",
        "    import random\n",
        "    a = list(range(16))    #1\n",
        "    random.shuffle(a)      #1\n",
        "    b = a.copy()       \n",
        "\n",
        "    arr = insertionSort(a)\n",
        "    print('---'*20)\n",
        "    Insertion_Sort(b)"
      ],
      "execution_count": 1,
      "outputs": [
        {
          "output_type": "stream",
          "text": [
            "[1, 7, 2, 11, 10, 5, 4, 6, 3, 8, 12, 14, 0, 13, 9, 15]\n",
            "[1, 7, 2, 11, 10, 5, 4, 6, 3, 8, 12, 14, 0, 13, 9, 15]\n",
            "[1, 2, 7, 11, 10, 5, 4, 6, 3, 8, 12, 14, 0, 13, 9, 15]\n",
            "[1, 2, 7, 11, 10, 5, 4, 6, 3, 8, 12, 14, 0, 13, 9, 15]\n",
            "[1, 2, 7, 10, 11, 5, 4, 6, 3, 8, 12, 14, 0, 13, 9, 15]\n",
            "[1, 2, 5, 7, 10, 11, 4, 6, 3, 8, 12, 14, 0, 13, 9, 15]\n",
            "[1, 2, 4, 5, 7, 10, 11, 6, 3, 8, 12, 14, 0, 13, 9, 15]\n",
            "[1, 2, 4, 5, 6, 7, 10, 11, 3, 8, 12, 14, 0, 13, 9, 15]\n",
            "[1, 2, 3, 4, 5, 6, 7, 10, 11, 8, 12, 14, 0, 13, 9, 15]\n",
            "[1, 2, 3, 4, 5, 6, 7, 8, 10, 11, 12, 14, 0, 13, 9, 15]\n",
            "[1, 2, 3, 4, 5, 6, 7, 8, 10, 11, 12, 14, 0, 13, 9, 15]\n",
            "[1, 2, 3, 4, 5, 6, 7, 8, 10, 11, 12, 14, 0, 13, 9, 15]\n",
            "[0, 1, 2, 3, 4, 5, 6, 7, 8, 10, 11, 12, 14, 13, 9, 15]\n",
            "[0, 1, 2, 3, 4, 5, 6, 7, 8, 10, 11, 12, 13, 14, 9, 15]\n",
            "[0, 1, 2, 3, 4, 5, 6, 7, 8, 9, 10, 11, 12, 13, 14, 15]\n",
            "[0, 1, 2, 3, 4, 5, 6, 7, 8, 9, 10, 11, 12, 13, 14, 15]\n",
            "------------------------------------------------------------\n"
          ],
          "name": "stdout"
        }
      ]
    }
  ]
}