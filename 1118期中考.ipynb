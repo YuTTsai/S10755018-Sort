{
  "nbformat": 4,
  "nbformat_minor": 0,
  "metadata": {
    "colab": {
      "name": "1118期中考",
      "provenance": [],
      "authorship_tag": "ABX9TyNphoz+pI7f6wFU8u0Kb7KB",
      "include_colab_link": true
    },
    "kernelspec": {
      "name": "python3",
      "display_name": "Python 3"
    }
  },
  "cells": [
    {
      "cell_type": "markdown",
      "metadata": {
        "id": "view-in-github",
        "colab_type": "text"
      },
      "source": [
        "<a href=\"https://colab.research.google.com/github/YuTTsai/S10755018-Sort/blob/master/1118%E6%9C%9F%E4%B8%AD%E8%80%83.ipynb\" target=\"_parent\"><img src=\"https://colab.research.google.com/assets/colab-badge.svg\" alt=\"Open In Colab\"/></a>"
      ]
    },
    {
      "cell_type": "code",
      "metadata": {
        "colab": {
          "base_uri": "https://localhost:8080/"
        },
        "id": "JLDWAUGALyJi",
        "outputId": "e35c001f-ff6f-40be-ffd3-4347c39e7485"
      },
      "source": [
        "#還沒完成!!\n",
        "#⽤Python實作 “選擇排序法”Selection sort\n",
        "#• 隨機產⽣8個數字，分別使⽤兩種⽅法將數字做排序\n",
        "#• 選擇排序法(⼤到⼩)\n",
        "#• 需解釋演算法設計(註解)\n",
        "\n",
        "\n",
        "\n",
        "def Selction_Sort(datas):\n",
        "    for i in range(len(datas)-1):                           \n",
        "        min = i                   # 第一次選從第一個數開始,第二次從第二個數開始           \n",
        "        for j in range(i+1, len(datas)):     # 用記錄的max數與其他的比較     \n",
        "            if datas[j] > datas[min]:     # 將 \"<\" 改成 \">\" 就完成大到小排序          \n",
        "                min = j                           \n",
        "\n",
        "        datas[i], datas[min] = datas[min], datas[i]                \n",
        "\n",
        "        print(datas)                                  \n",
        "        print('---'*10)                                \n",
        "    return datas                                    \n",
        "                                                                                      \n",
        "print('選擇排序法(⼤到⼩)')\n",
        "print('隨機產生8個數:')\n",
        "print('')\n",
        "\n",
        "if __name__ == '__main__':\n",
        "    import random\n",
        "    a = list(random.randint(1,100) for _ in range(8))    #在1~100之間 產生8個隨機整數    #https://zhidao.baidu.com/question/516550997\n",
        "    random.shuffle(a)\n",
        "    print(a)\n",
        "    print('——'*15) # 將 RANDOM結果和排序的隔開的分開\n",
        "    print('——'*15)\n",
        "    a = Selction_Sort(a)\n",
        "    print(a)\n"
      ],
      "execution_count": 32,
      "outputs": [
        {
          "output_type": "stream",
          "text": [
            "選擇排序法(⼤到⼩)\n",
            "隨機產生8個數:\n",
            "\n",
            "[98, 5, 49, 100, 45, 57, 22, 31]\n",
            "——————————————————————————————\n",
            "——————————————————————————————\n",
            "[100, 5, 49, 98, 45, 57, 22, 31]\n",
            "------------------------------\n",
            "[100, 98, 49, 5, 45, 57, 22, 31]\n",
            "------------------------------\n",
            "[100, 98, 57, 5, 45, 49, 22, 31]\n",
            "------------------------------\n",
            "[100, 98, 57, 49, 45, 5, 22, 31]\n",
            "------------------------------\n",
            "[100, 98, 57, 49, 45, 5, 22, 31]\n",
            "------------------------------\n",
            "[100, 98, 57, 49, 45, 31, 22, 5]\n",
            "------------------------------\n",
            "[100, 98, 57, 49, 45, 31, 22, 5]\n",
            "------------------------------\n",
            "[100, 98, 57, 49, 45, 31, 22, 5]\n"
          ],
          "name": "stdout"
        }
      ]
    },
    {
      "cell_type": "code",
      "metadata": {
        "colab": {
          "base_uri": "https://localhost:8080/"
        },
        "id": "PGBYyi2ZMEeu",
        "outputId": "64c4f3d0-527d-4073-fe8d-25418a9204a6"
      },
      "source": [
        "#還沒完成!!\n",
        "#⽤Python實作 插入排序法” Insertion sort \n",
        "#• 隨機產⽣8個數字，分別使⽤兩種⽅法將數字做排序\n",
        "#• 插入排序法(⼩到⼤)\n",
        "#• 需解釋演算法設計(註解)\n",
        "\n",
        "\n",
        "def Insertion_Sort(datas):\n",
        "    for i in range(1, len(datas)):          \n",
        "        for j in range(i):            \n",
        "            current = datas[i]          \n",
        "            if current < datas[j]:       \n",
        "                for k in range(i,j):    \n",
        "                  print(datas)        \n",
        "    return datas                     \n",
        "\n",
        "                             \n",
        "                              \n",
        "def insertionSort(arr):\n",
        "    for i in range(len(arr)):\n",
        "        preIndex = i-1\n",
        "        current = arr[i]\n",
        "        while preIndex >= 0 and arr[preIndex] > current:\n",
        "            arr[preIndex+1] = arr[preIndex]\n",
        "            preIndex-=1\n",
        "        arr[preIndex+1] = current\n",
        "        print(arr)\n",
        "    return arr\n",
        "\n",
        "print('插入排序法(⼩到⼤)')\n",
        "print('隨機產生8個數:')\n",
        "print('')\n",
        "\n",
        "if __name__ == '__main__':\n",
        "    import random\n",
        "    a = list(random.randint(1,100) for _ in range(8))    #在1~100之間 產生8個隨機整數  #https://zhidao.baidu.com/question/516550997\n",
        "    random.shuffle(a)      #1\n",
        "    b = a.copy()       \n",
        "\n",
        "    arr = insertionSort(a)\n",
        "    print('---'*10)\n",
        "    Insertion_Sort(b)"
      ],
      "execution_count": 31,
      "outputs": [
        {
          "output_type": "stream",
          "text": [
            "插入排序法(⼩到⼤)\n",
            "隨機產生8個數:\n",
            "\n",
            "[77, 65, 44, 38, 11, 20, 97, 4]\n",
            "[65, 77, 44, 38, 11, 20, 97, 4]\n",
            "[44, 65, 77, 38, 11, 20, 97, 4]\n",
            "[38, 44, 65, 77, 11, 20, 97, 4]\n",
            "[11, 38, 44, 65, 77, 20, 97, 4]\n",
            "[11, 20, 38, 44, 65, 77, 97, 4]\n",
            "[11, 20, 38, 44, 65, 77, 97, 4]\n",
            "[4, 11, 20, 38, 44, 65, 77, 97]\n",
            "------------------------------\n"
          ],
          "name": "stdout"
        }
      ]
    }
  ]
}