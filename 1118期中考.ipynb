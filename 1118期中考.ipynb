{
  "nbformat": 4,
  "nbformat_minor": 0,
  "metadata": {
    "colab": {
      "name": "1118期中考",
      "provenance": [],
      "authorship_tag": "ABX9TyO98Ls8/Q5lkgLkCjKJp4WC",
      "include_colab_link": true
    },
    "kernelspec": {
      "name": "python3",
      "display_name": "Python 3"
    }
  },
  "cells": [
    {
      "cell_type": "markdown",
      "metadata": {
        "id": "view-in-github",
        "colab_type": "text"
      },
      "source": [
        "<a href=\"https://colab.research.google.com/github/YuTTsai/S10755018-Sort/blob/master/1118%E6%9C%9F%E4%B8%AD%E8%80%83.ipynb\" target=\"_parent\"><img src=\"https://colab.research.google.com/assets/colab-badge.svg\" alt=\"Open In Colab\"/></a>"
      ]
    },
    {
      "cell_type": "code",
      "metadata": {
        "id": "JLDWAUGALyJi"
      },
      "source": [
        "#⽤Python實作 “選擇排序法”\n",
        "#• 隨機產⽣8個數字，分別使⽤兩種⽅法將數字做排序\n",
        "#• 選擇(⼤到⼩)\n",
        "#• 需解釋演算法設計(註解)\n",
        "\n"
      ],
      "execution_count": null,
      "outputs": []
    },
    {
      "cell_type": "code",
      "metadata": {
        "id": "PGBYyi2ZMEeu"
      },
      "source": [
        "#⽤Python實作 插入排序法”\n",
        "#• 隨機產⽣8個數字，分別使⽤兩種⽅法將數字做排序\n",
        "#• 插入(⼩到⼤)\n",
        "#• 需解釋演算法設計(註解)\n",
        "\n"
      ],
      "execution_count": null,
      "outputs": []
    }
  ]
}