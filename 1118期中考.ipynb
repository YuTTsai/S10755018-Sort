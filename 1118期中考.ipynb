{
  "nbformat": 4,
  "nbformat_minor": 0,
  "metadata": {
    "colab": {
      "name": "1118期中考",
      "provenance": [],
      "authorship_tag": "ABX9TyNADXfsiA7WhPgMZPNlKcQF",
      "include_colab_link": true
    },
    "kernelspec": {
      "name": "python3",
      "display_name": "Python 3"
    }
  },
  "cells": [
    {
      "cell_type": "markdown",
      "metadata": {
        "id": "view-in-github",
        "colab_type": "text"
      },
      "source": [
        "<a href=\"https://colab.research.google.com/github/YuTTsai/S10755018-Sort/blob/master/1118%E6%9C%9F%E4%B8%AD%E8%80%83.ipynb\" target=\"_parent\"><img src=\"https://colab.research.google.com/assets/colab-badge.svg\" alt=\"Open In Colab\"/></a>"
      ]
    },
    {
      "cell_type": "code",
      "metadata": {
        "colab": {
          "base_uri": "https://localhost:8080/"
        },
        "id": "JLDWAUGALyJi",
        "outputId": "4ea18ce1-eefe-4131-a08f-9a5975ae8b3d"
      },
      "source": [
        "#⽤Python實作 “選擇排序法”Selection sort\n",
        "#• 隨機產⽣8個數字，分別使⽤兩種⽅法將數字做排序\n",
        "#• 選擇排序法(⼤到⼩)\n",
        "#• 需解釋演算法設計(註解)\n",
        "\n",
        "\n",
        "\n",
        "def Selction_Sort(datas):        # 定義選擇排序法 \n",
        "    for i in range(len(datas)-1):           # 第一次會用到兩筆資料 所以長度要-1                 \n",
        "        max = i                   # 將max值設為第一個數       \n",
        "        for j in range(i+1, len(datas)):     # 不可以再取到第一筆資料所以Range範圍是:i+1到資料的長度，讓i和j進行比較 #用記錄的max數與其他的比較     \n",
        "            if datas[j] > datas[max]:     # 將 \"<\" 改成 \">\" 就完成大到小排序          \n",
        "                max = j           # 若 大於當前max值，則將j設為新的max值                \n",
        "\n",
        "        datas[i], datas[max] = datas[max], datas[i]    # 將i指定為max max(可能是j值也可能是原本的值)指定為i 交換讓下個比較能順利進行            \n",
        "   \n",
        "        print(datas)                 # 印出資料                                 \n",
        "        print('---'*10)                                \n",
        "    return datas                    # 回傳資料                 \n",
        "                                                                                      \n",
        "print('選擇排序法(⼤到⼩)')                 # 標題  \n",
        "print('隨機產生8個數:')                   # 標題  \n",
        "print('')\n",
        "\n",
        "if __name__ == '__main__':              #程式會有單獨執行和被引用的狀況，判斷那些程式碼會被執行# https://ithelp.ithome.com.tw/articles/10231756\n",
        "    import random                         # 使用Random時，必寫 \n",
        "    first = list(random.randint(1,100) for _ in range(8))    # 在1~100之間 產生8個隨機整數    #https://zhidao.baidu.com/question/516550997\n",
        "    random.shuffle(first)                        # 打亂8個隨機整數\n",
        "    print(first)                             # 印出打亂的8個隨機整數\n",
        "    print('——'*15)                         # 將 RANDOM結果和排序的隔開\n",
        "    print('——'*15)\n",
        "    first = Selction_Sort(first)                      # 將 RANDOM結果進行選擇排序法\n",
        "    print(first)                             # 印出資料 \n"
      ],
      "execution_count": 10,
      "outputs": [
        {
          "output_type": "stream",
          "text": [
            "選擇排序法(⼤到⼩)\n",
            "隨機產生8個數:\n",
            "\n",
            "[89, 86, 12, 11, 72, 46, 97, 100]\n",
            "——————————————————————————————\n",
            "——————————————————————————————\n",
            "[100, 86, 12, 11, 72, 46, 97, 89]\n",
            "------------------------------\n",
            "[100, 97, 12, 11, 72, 46, 86, 89]\n",
            "------------------------------\n",
            "[100, 97, 89, 11, 72, 46, 86, 12]\n",
            "------------------------------\n",
            "[100, 97, 89, 86, 72, 46, 11, 12]\n",
            "------------------------------\n",
            "[100, 97, 89, 86, 72, 46, 11, 12]\n",
            "------------------------------\n",
            "[100, 97, 89, 86, 72, 46, 11, 12]\n",
            "------------------------------\n",
            "[100, 97, 89, 86, 72, 46, 12, 11]\n",
            "------------------------------\n",
            "[100, 97, 89, 86, 72, 46, 12, 11]\n"
          ],
          "name": "stdout"
        }
      ]
    },
    {
      "cell_type": "code",
      "metadata": {
        "colab": {
          "base_uri": "https://localhost:8080/"
        },
        "id": "PGBYyi2ZMEeu",
        "outputId": "049c3aaa-553f-4b50-ebb0-33c1e2e65732"
      },
      "source": [
        "#還沒完成!!\n",
        "#⽤Python實作 插入排序法” Insertion sort \n",
        "#• 隨機產⽣8個數字，分別使⽤兩種⽅法將數字做排序\n",
        "#• 插入排序法(⼩到⼤)\n",
        "#• 需解釋演算法設計(註解)\n",
        "\n",
        "\n",
        "def Insertion_Sort(datas):                      #定義Insertion_Sort\n",
        "    for i in range(1, len(datas)):               #\n",
        "        for j in range(i):            \n",
        "            current = datas[i]          \n",
        "            if current < datas[j]:       \n",
        "                for k in range(i,j):    \n",
        "                  print(datas)        \n",
        "    return datas                         # 回傳資料                    \n",
        "\n",
        "                             \n",
        "                              \n",
        "def insertionSort(arr):                         #定義InsertionSort\n",
        "    for i in range(len(arr)):                   #長度為rr = insertionSort(first) 的長度\n",
        "        preIndex = i-1                   \n",
        "        current = arr[i]                    #current 為第i個所以值\n",
        "        while preIndex >= 0 and arr[preIndex] > current:  #當preindex>=0 且 arr[i-1](前一個值)的索引值 > arr[i](現在的值時)執行\n",
        "          arr[preIndex+1] = arr[preIndex]           # arr[i-1+1](arr[i]值) = arr[i-1](前一個值)的索引值\n",
        "          preIndex-=1                      # preindex值-1\n",
        "        arr[preIndex+1] = current                # preindex值在上面一行已-1 arr[((i-1)-1)+1](arr[i-1]值)= current值\n",
        "        print(arr)                         #印出arr值\n",
        "    return arr                          # 回傳資料 \n",
        "\n",
        "print('插入排序法(⼩到⼤)')                      # 標題 \n",
        "print('隨機產生8個數:')                        # 標題 \n",
        "print('')\n",
        "\n",
        "if __name__ == '__main__':\n",
        "    import random                         # 使用Random時，必寫 \n",
        "    first = list(random.randint(1,100) for _ in range(8))    #在1~100之間 產生8個隨機整數  #https://zhidao.baidu.com/question/516550997\n",
        "    random.shuffle(first)                        # 打亂8個隨機整數\n",
        "    second = first.copy()                         # 複製first的內容\n",
        "\n",
        "    arr = insertionSort(first)                    #將 RANDOM結果進行insertionSort 將結果設為arr\n",
        "    print('---'*10)\n",
        "    Insertion_Sort(second)                        # 將 second 進行Insertion_Sort "
      ],
      "execution_count": 12,
      "outputs": [
        {
          "output_type": "stream",
          "text": [
            "插入排序法(⼩到⼤)\n",
            "隨機產生8個數:\n",
            "\n",
            "[77, 95, 82, 23, 68, 66, 79, 87]\n",
            "[77, 95, 82, 23, 68, 66, 79, 87]\n",
            "[77, 82, 95, 23, 68, 66, 79, 87]\n",
            "[23, 77, 82, 95, 68, 66, 79, 87]\n",
            "[23, 68, 77, 82, 95, 66, 79, 87]\n",
            "[23, 66, 68, 77, 82, 95, 79, 87]\n",
            "[23, 66, 68, 77, 79, 82, 95, 87]\n",
            "[23, 66, 68, 77, 79, 82, 87, 95]\n",
            "------------------------------\n"
          ],
          "name": "stdout"
        }
      ]
    }
  ]
}