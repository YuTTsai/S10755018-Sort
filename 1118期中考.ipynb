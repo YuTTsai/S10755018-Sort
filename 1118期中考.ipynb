{
  "nbformat": 4,
  "nbformat_minor": 0,
  "metadata": {
    "colab": {
      "name": "1118期中考",
      "provenance": [],
      "authorship_tag": "ABX9TyO1mp3TPDzbwb5FHMwiw6Je",
      "include_colab_link": true
    },
    "kernelspec": {
      "name": "python3",
      "display_name": "Python 3"
    }
  },
  "cells": [
    {
      "cell_type": "markdown",
      "metadata": {
        "id": "view-in-github",
        "colab_type": "text"
      },
      "source": [
        "<a href=\"https://colab.research.google.com/github/YuTTsai/S10755018-Sort/blob/master/1118%E6%9C%9F%E4%B8%AD%E8%80%83.ipynb\" target=\"_parent\"><img src=\"https://colab.research.google.com/assets/colab-badge.svg\" alt=\"Open In Colab\"/></a>"
      ]
    },
    {
      "cell_type": "code",
      "metadata": {
        "colab": {
          "base_uri": "https://localhost:8080/"
        },
        "id": "JLDWAUGALyJi",
        "outputId": "25af8aec-01b9-442f-ca2c-10c8d24c7eb6"
      },
      "source": [
        "#還沒完成!!\n",
        "#⽤Python實作 “選擇排序法”Selection sort\n",
        "#• 隨機產⽣8個數字，分別使⽤兩種⽅法將數字做排序\n",
        "#• 選擇排序法(⼤到⼩)\n",
        "#• 需解釋演算法設計(註解)\n",
        "\n",
        "\n",
        "\n",
        "def Selction_Sort(datas):        # 定義選擇排序法 \n",
        "    for i in range(len(datas)-1):           # 第一次會用到兩筆資料 所以長度要-1                 \n",
        "        max = i                   # 將max值設為第一個數       \n",
        "        for j in range(i+1, len(datas)):     # 不可以再取到第一筆資料所以Range範圍是:i+1到資料的長度，讓i和j進行比較 #用記錄的max數與其他的比較     \n",
        "            if datas[j] > datas[max]:     # 將 \"<\" 改成 \">\" 就完成大到小排序          \n",
        "                max = j           # 若 大於當前max值，則將j設為新的max值                \n",
        "\n",
        "        datas[i], datas[max] = datas[max], datas[i]                \n",
        "\n",
        "        print(datas)                 # 印出資料                                 \n",
        "        print('---'*10)                                \n",
        "    return datas                    # 回傳資料                 \n",
        "                                                                                      \n",
        "print('選擇排序法(⼤到⼩)')                 # 標題  \n",
        "print('隨機產生8個數:')                   # 標題  \n",
        "print('')\n",
        "\n",
        "if __name__ == '__main__':              #程式會有單獨執行和被引用的狀況，判斷那些程式碼會被執行# https://ithelp.ithome.com.tw/articles/10231756\n",
        "    import random                         # 使用Random時，必寫 \n",
        "    first = list(random.randint(1,100) for _ in range(8))    # 在1~100之間 產生8個隨機整數    #https://zhidao.baidu.com/question/516550997\n",
        "    random.shuffle(first)                        # 打亂8個隨機整數\n",
        "    print(first)                             # 印出打亂的8個隨機整數\n",
        "    print('——'*15)                         # 將 RANDOM結果和排序的隔開\n",
        "    print('——'*15)\n",
        "    first = Selction_Sort(first)                      # 將 RANDOM結果進行選擇排序法\n",
        "    print(first)                             # 印出資料 \n"
      ],
      "execution_count": null,
      "outputs": [
        {
          "output_type": "stream",
          "text": [
            "選擇排序法(⼤到⼩)\n",
            "隨機產生8個數:\n",
            "\n",
            "[17, 20, 96, 57, 81, 82, 74, 91]\n",
            "——————————————————————————————\n",
            "——————————————————————————————\n",
            "[96, 20, 17, 57, 81, 82, 74, 91]\n",
            "------------------------------\n",
            "[96, 91, 17, 57, 81, 82, 74, 20]\n",
            "------------------------------\n",
            "[96, 91, 82, 57, 81, 17, 74, 20]\n",
            "------------------------------\n",
            "[96, 91, 82, 81, 57, 17, 74, 20]\n",
            "------------------------------\n",
            "[96, 91, 82, 81, 74, 17, 57, 20]\n",
            "------------------------------\n",
            "[96, 91, 82, 81, 74, 57, 17, 20]\n",
            "------------------------------\n",
            "[96, 91, 82, 81, 74, 57, 20, 17]\n",
            "------------------------------\n",
            "[96, 91, 82, 81, 74, 57, 20, 17]\n"
          ],
          "name": "stdout"
        }
      ]
    },
    {
      "cell_type": "code",
      "metadata": {
        "colab": {
          "base_uri": "https://localhost:8080/"
        },
        "id": "PGBYyi2ZMEeu",
        "outputId": "26b2dadf-3022-421e-e791-ece33629e435"
      },
      "source": [
        "#還沒完成!!\n",
        "#⽤Python實作 插入排序法” Insertion sort \n",
        "#• 隨機產⽣8個數字，分別使⽤兩種⽅法將數字做排序\n",
        "#• 插入排序法(⼩到⼤)\n",
        "#• 需解釋演算法設計(註解)\n",
        "\n",
        "\n",
        "def Insertion_Sort(datas):\n",
        "    for i in range(1, len(datas)):               #\n",
        "        for j in range(i):            \n",
        "            current = datas[i]          \n",
        "            if current < datas[j]:       \n",
        "                for k in range(i,j):    \n",
        "                  print(datas)        \n",
        "    return datas                         # 回傳資料                    \n",
        "\n",
        "                             \n",
        "                              \n",
        "def insertionSort(arr):\n",
        "    for i in range(len(arr)):\n",
        "        preIndex = i-1\n",
        "        current = arr[i]\n",
        "        while preIndex >= 0 and arr[preIndex] > current:\n",
        "            arr[preIndex+1] = arr[preIndex]\n",
        "            preIndex-=1\n",
        "        arr[preIndex+1] = current\n",
        "        print(arr)\n",
        "    return arr                          # 回傳資料 \n",
        "\n",
        "print('插入排序法(⼩到⼤)')                      # 標題 \n",
        "print('隨機產生8個數:')                        # 標題 \n",
        "print('')\n",
        "\n",
        "if __name__ == '__main__':\n",
        "    import random                         # 使用Random時，必寫 \n",
        "    first = list(random.randint(1,100) for _ in range(8))    #在1~100之間 產生8個隨機整數  #https://zhidao.baidu.com/question/516550997\n",
        "    random.shuffle(first)                        # 打亂8個隨機整數\n",
        "    second = first.copy()                         # 複製first的內容\n",
        "\n",
        "    arr = insertionSort(first)                    #將 RANDOM結果進行插入排序法 將結果設為arr\n",
        "    print('---'*10)\n",
        "    Insertion_Sort(second)                        #"
      ],
      "execution_count": null,
      "outputs": [
        {
          "output_type": "stream",
          "text": [
            "插入排序法(⼩到⼤)\n",
            "隨機產生8個數:\n",
            "\n",
            "[76, 73, 32, 70, 88, 90, 45, 23]\n",
            "[73, 76, 32, 70, 88, 90, 45, 23]\n",
            "[32, 73, 76, 70, 88, 90, 45, 23]\n",
            "[32, 70, 73, 76, 88, 90, 45, 23]\n",
            "[32, 70, 73, 76, 88, 90, 45, 23]\n",
            "[32, 70, 73, 76, 88, 90, 45, 23]\n",
            "[32, 45, 70, 73, 76, 88, 90, 23]\n",
            "[23, 32, 45, 70, 73, 76, 88, 90]\n",
            "------------------------------\n"
          ],
          "name": "stdout"
        }
      ]
    }
  ]
}