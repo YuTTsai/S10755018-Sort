{
  "nbformat": 4,
  "nbformat_minor": 0,
  "metadata": {
    "colab": {
      "name": "1118期中考",
      "provenance": [],
      "authorship_tag": "ABX9TyOUnjxxBr4EQE+14jVH/OvB",
      "include_colab_link": true
    },
    "kernelspec": {
      "name": "python3",
      "display_name": "Python 3"
    }
  },
  "cells": [
    {
      "cell_type": "markdown",
      "metadata": {
        "id": "view-in-github",
        "colab_type": "text"
      },
      "source": [
        "<a href=\"https://colab.research.google.com/github/YuTTsai/S10755018-Sort/blob/master/1118%E6%9C%9F%E4%B8%AD%E8%80%83.ipynb\" target=\"_parent\"><img src=\"https://colab.research.google.com/assets/colab-badge.svg\" alt=\"Open In Colab\"/></a>"
      ]
    },
    {
      "cell_type": "code",
      "metadata": {
        "colab": {
          "base_uri": "https://localhost:8080/"
        },
        "id": "JLDWAUGALyJi",
        "outputId": "60719046-50d1-46df-ad23-f1c6e993ea9c"
      },
      "source": [
        "#⽤Python實作 “選擇排序法”Selection sort\n",
        "#• 隨機產⽣8個數字，分別使⽤兩種⽅法將數字做排序\n",
        "#• 選擇(⼤到⼩)\n",
        "#• 需解釋演算法設計(註解)\n",
        "\n",
        "def Selction_Sort(datas):\n",
        "    for i in range(len(datas)-1):                           \n",
        "        min = i # 第一次選從第一個數開始,第二次從第二個數開始           \n",
        "        for j in range(i+1, len(datas)):    # 用記錄的max數與其他的比較     \n",
        "            if datas[j] < datas[min]:                      \n",
        "                min = j                           \n",
        "\n",
        "        datas[i], datas[min] = datas[min], datas[i]                \n",
        "\n",
        "        print(datas)                                  \n",
        "        print('---'*10)                                \n",
        "    return datas                                    \n",
        "                                                                                      \n",
        "\n",
        "\n",
        "if __name__ == '__main__':\n",
        "    import random\n",
        "    a = list(range(8))\n",
        "    random.shuffle(a)\n",
        "    print(a)\n",
        "    print('---'*10)\n",
        "    a = Selction_Sort(a)\n",
        "    print(a)\n"
      ],
      "execution_count": 6,
      "outputs": [
        {
          "output_type": "stream",
          "text": [
            "[4, 1, 3, 6, 0, 5, 2, 7]\n",
            "------------------------------\n",
            "[0, 1, 3, 6, 4, 5, 2, 7]\n",
            "------------------------------\n",
            "[0, 1, 3, 6, 4, 5, 2, 7]\n",
            "------------------------------\n",
            "[0, 1, 2, 6, 4, 5, 3, 7]\n",
            "------------------------------\n",
            "[0, 1, 2, 3, 4, 5, 6, 7]\n",
            "------------------------------\n",
            "[0, 1, 2, 3, 4, 5, 6, 7]\n",
            "------------------------------\n",
            "[0, 1, 2, 3, 4, 5, 6, 7]\n",
            "------------------------------\n",
            "[0, 1, 2, 3, 4, 5, 6, 7]\n",
            "------------------------------\n",
            "[0, 1, 2, 3, 4, 5, 6, 7]\n"
          ],
          "name": "stdout"
        }
      ]
    },
    {
      "cell_type": "code",
      "metadata": {
        "colab": {
          "base_uri": "https://localhost:8080/"
        },
        "id": "PGBYyi2ZMEeu",
        "outputId": "2114327d-768b-4908-c400-b29760e1c9b1"
      },
      "source": [
        "#⽤Python實作 插入排序法” Insertion sort \n",
        "#• 隨機產⽣8個數字，分別使⽤兩種⽅法將數字做排序\n",
        "#• 插入(⼩到⼤)\n",
        "#• 需解釋演算法設計(註解)\n",
        "\n",
        "\n",
        "def Insertion_Sort(datas):\n",
        "    for i in range(1, len(datas)):          \n",
        "        for j in range(i):            \n",
        "            current = datas[i]          \n",
        "            if current < datas[j]:       \n",
        "                for k in range(i,j):    \n",
        "                  print(datas)        \n",
        "    return datas                     \n",
        "\n",
        "                             \n",
        "                              \n",
        "def insertionSort(arr):\n",
        "    for i in range(len(arr)):\n",
        "        preIndex = i-1\n",
        "        current = arr[i]\n",
        "        while preIndex >= 0 and arr[preIndex] > current:\n",
        "            arr[preIndex+1] = arr[preIndex]\n",
        "            preIndex-=1\n",
        "        arr[preIndex+1] = current\n",
        "        print(arr)\n",
        "    return arr\n",
        "\n",
        "if __name__ == '__main__':\n",
        "    import random\n",
        "    a = list(range(8))    #1\n",
        "    random.shuffle(a)      #1\n",
        "    b = a.copy()       \n",
        "\n",
        "    arr = insertionSort(a)\n",
        "    print('---'*10)\n",
        "    Insertion_Sort(b)"
      ],
      "execution_count": 8,
      "outputs": [
        {
          "output_type": "stream",
          "text": [
            "[5, 0, 4, 7, 3, 1, 6, 2]\n",
            "[0, 5, 4, 7, 3, 1, 6, 2]\n",
            "[0, 4, 5, 7, 3, 1, 6, 2]\n",
            "[0, 4, 5, 7, 3, 1, 6, 2]\n",
            "[0, 3, 4, 5, 7, 1, 6, 2]\n",
            "[0, 1, 3, 4, 5, 7, 6, 2]\n",
            "[0, 1, 3, 4, 5, 6, 7, 2]\n",
            "[0, 1, 2, 3, 4, 5, 6, 7]\n",
            "------------------------------\n"
          ],
          "name": "stdout"
        }
      ]
    }
  ]
}