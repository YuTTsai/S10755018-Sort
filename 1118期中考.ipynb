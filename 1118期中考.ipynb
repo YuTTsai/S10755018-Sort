{
  "nbformat": 4,
  "nbformat_minor": 0,
  "metadata": {
    "colab": {
      "name": "1118期中考",
      "provenance": [],
      "authorship_tag": "ABX9TyN6Ko98OLAMRLp4V45bH+aJ",
      "include_colab_link": true
    },
    "kernelspec": {
      "name": "python3",
      "display_name": "Python 3"
    }
  },
  "cells": [
    {
      "cell_type": "markdown",
      "metadata": {
        "id": "view-in-github",
        "colab_type": "text"
      },
      "source": [
        "<a href=\"https://colab.research.google.com/github/YuTTsai/S10755018-Sort/blob/master/1118%E6%9C%9F%E4%B8%AD%E8%80%83.ipynb\" target=\"_parent\"><img src=\"https://colab.research.google.com/assets/colab-badge.svg\" alt=\"Open In Colab\"/></a>"
      ]
    },
    {
      "cell_type": "code",
      "metadata": {
        "colab": {
          "base_uri": "https://localhost:8080/"
        },
        "id": "JLDWAUGALyJi",
        "outputId": "7f660277-59b1-4a00-c19d-0dcfe5d70943"
      },
      "source": [
        "#⽤Python實作 “選擇排序法”Selection sort\n",
        "#• 隨機產⽣8個數字\n",
        "#• 選擇排序法(⼤到⼩)\n",
        "#• 需解釋演算法設計(註解)\n",
        "\n",
        "\n",
        "\n",
        "def Selction_Sort(data):        # 定義選擇排序法 \n",
        "    for a in range(len(data)-1):           # 第一次會用到兩筆資料 所以長度要-1                 \n",
        "        max = a                   # 將max值設為第一個數       \n",
        "        for b in range(a+1, len(data)):     # 不可以再取到第一筆資料所以Range範圍是:a+1到資料的長度，讓a和b進行比較 #用記錄的max數與其他的比較     \n",
        "            if data[b] > data[max]:     # 將 \"<\" 改成 \">\" 就完成大到小排序          \n",
        "                max = b           # 若 大於當前max值，則將b設為新的max值                \n",
        "\n",
        "        data[a], data[max] = data[max], data[a]    # 將a指定為max max(可能是j值也可能是原本的值)指定為a 交換讓下個比較能順利進行            \n",
        "   \n",
        "        print(data)                 # 印出資料                                 \n",
        "        print('---'*10)                                \n",
        "    return data                   # 回傳資料                 \n",
        "                                                                                      \n",
        "print('選擇排序法(⼤到⼩)')                 # 標題  \n",
        "print('隨機產生8個數:')                   # 標題  \n",
        "print('')\n",
        "\n",
        "if __name__ == '__main__':              #程式會有單獨執行和被引用的狀況，判斷那些程式碼會被執行# https://ithelp.ithome.com.tw/articles/10231756\n",
        "    import random                         # 使用Random時，必寫 \n",
        "    first = list(random.randint(1,100) for _ in range(8))    # 在1~100之間 產生8個隨機整數    #https://zhidao.baidu.com/question/516550997\n",
        "    random.shuffle(first)                        # 打亂8個隨機整數\n",
        "    print(first)                             # 印出打亂的8個隨機整數\n",
        "    print('——'*15)                         # 將 RANDOM結果和排序的隔開\n",
        "    print('——'*15)\n",
        "    first = Selction_Sort(first)                      # 將 RANDOM結果進行選擇排序法\n",
        "    print(first)                             # 印出資料 \n"
      ],
      "execution_count": 4,
      "outputs": [
        {
          "output_type": "stream",
          "text": [
            "選擇排序法(⼤到⼩)\n",
            "隨機產生8個數:\n",
            "\n",
            "[71, 57, 20, 50, 61, 38, 17, 91]\n",
            "——————————————————————————————\n",
            "——————————————————————————————\n",
            "[91, 57, 20, 50, 61, 38, 17, 71]\n",
            "------------------------------\n",
            "[91, 71, 20, 50, 61, 38, 17, 57]\n",
            "------------------------------\n",
            "[91, 71, 61, 50, 20, 38, 17, 57]\n",
            "------------------------------\n",
            "[91, 71, 61, 57, 20, 38, 17, 50]\n",
            "------------------------------\n",
            "[91, 71, 61, 57, 50, 38, 17, 20]\n",
            "------------------------------\n",
            "[91, 71, 61, 57, 50, 38, 17, 20]\n",
            "------------------------------\n",
            "[91, 71, 61, 57, 50, 38, 20, 17]\n",
            "------------------------------\n",
            "[91, 71, 61, 57, 50, 38, 20, 17]\n"
          ],
          "name": "stdout"
        }
      ]
    },
    {
      "cell_type": "code",
      "metadata": {
        "colab": {
          "base_uri": "https://localhost:8080/"
        },
        "id": "PGBYyi2ZMEeu",
        "outputId": "fbd7dc3c-1199-4904-95bc-10b4d410ce66"
      },
      "source": [
        "#⽤Python實作 插入排序法” Insertion sort \n",
        "#• 隨機產⽣8個數字\n",
        "#• 插入排序法(⼩到⼤)\n",
        "#• 需解釋演算法設計(註解)\n",
        "\n",
        "\n",
        "def Insertion_Sort(data):                      #定義Insertion_Sort data=second\n",
        "    for a in range(1, len(data)):               #a的範圍是 1~second\n",
        "        for b in range(a):                 #b的範圍是 a的範圍\n",
        "            current = data[a]             # current值為 data的第a個索引值\n",
        "            if current < data[b]:           # 若 current(data[a]小於)data[b] \n",
        "                for c in range(a,b):        # 執行for迴圈 \n",
        "                  print(data)           # 印出資料\n",
        "    return data                         # 回傳資料                    \n",
        "\n",
        "                             \n",
        "                              \n",
        "def insertionSort(arr):                         #定義InsertionSort 這裡的arr=first\n",
        "    for a in range(len(arr)):                   #長度為 arr 的長度\n",
        "        preIndex = a-1                   \n",
        "        current = arr[a]                     #current 為第a個索引值\n",
        "        while preIndex >= 0 and arr[preIndex] > current:  #當preindex>=0 且 arr[a-1](前一個值)的索引值 > arr[a](現在的值時)執行\n",
        "          arr[preIndex+1] = arr[preIndex]           # arr[a-1+1](arr[a]值) = arr[a-1](前一個值)的索引值\n",
        "          preIndex-=1                      # preindex值-1\n",
        "        arr[preIndex+1] = current                # preindex值在上面一行已-1 arr[((a-1)-1)+1](arr[a-1]值)= current值\n",
        "        print(arr)                         #印出arr值\n",
        "    return arr                          # 回傳資料 \n",
        "\n",
        "print('插入排序法(⼩到⼤)')                      # 標題 \n",
        "print('隨機產生8個數:')                        # 標題 \n",
        "print('')\n",
        "\n",
        "if __name__ == '__main__':\n",
        "    import random                         # 使用Random時，必寫 \n",
        "    first = list(random.randint(1,100) for _ in range(8))    #在1~100之間 產生8個隨機整數  #https://zhidao.baidu.com/question/516550997\n",
        "    random.shuffle(first)                        # 打亂8個隨機整數\n",
        "    second = first.copy()                         # 複製first的內容\n",
        "\n",
        "    arr = insertionSort(first)                    #將 RANDOM結果進行insertionSort 將結果設為arr\n",
        "    print('---'*10)\n",
        "    Insertion_Sort(second)                        # 將 second 進行Insertion_Sort "
      ],
      "execution_count": 6,
      "outputs": [
        {
          "output_type": "stream",
          "text": [
            "插入排序法(⼩到⼤)\n",
            "隨機產生8個數:\n",
            "\n",
            "[91, 32, 53, 100, 33, 77, 11, 24]\n",
            "[32, 91, 53, 100, 33, 77, 11, 24]\n",
            "[32, 53, 91, 100, 33, 77, 11, 24]\n",
            "[32, 53, 91, 100, 33, 77, 11, 24]\n",
            "[32, 33, 53, 91, 100, 77, 11, 24]\n",
            "[32, 33, 53, 77, 91, 100, 11, 24]\n",
            "[11, 32, 33, 53, 77, 91, 100, 24]\n",
            "[11, 24, 32, 33, 53, 77, 91, 100]\n",
            "------------------------------\n"
          ],
          "name": "stdout"
        }
      ]
    }
  ]
}