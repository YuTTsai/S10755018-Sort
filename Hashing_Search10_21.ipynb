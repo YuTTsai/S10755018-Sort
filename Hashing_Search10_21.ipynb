{
  "nbformat": 4,
  "nbformat_minor": 0,
  "metadata": {
    "colab": {
      "name": "Hashing Search10/21.ipynb",
      "provenance": [],
      "authorship_tag": "ABX9TyNq/mcpiC2oj1oPgRcfzkw6",
      "include_colab_link": true
    },
    "kernelspec": {
      "name": "python3",
      "display_name": "Python 3"
    }
  },
  "cells": [
    {
      "cell_type": "markdown",
      "metadata": {
        "id": "view-in-github",
        "colab_type": "text"
      },
      "source": [
        "<a href=\"https://colab.research.google.com/github/YuTTsai/S10755018-Sort/blob/master/Hashing_Search10_21.ipynb\" target=\"_parent\"><img src=\"https://colab.research.google.com/assets/colab-badge.svg\" alt=\"Open In Colab\"/></a>"
      ]
    },
    {
      "cell_type": "code",
      "metadata": {
        "id": "AmD3LurwENo_",
        "outputId": "36be8cb0-d02b-4a0c-f2e9-2d0419101fee",
        "colab": {
          "base_uri": "https://localhost:8080/",
          "height": 217
        }
      },
      "source": [
        "#線性探測法 ( linear probing ) \n",
        "import random\n",
        "\n",
        "INDEXBOX=10\n",
        "MAXNUM=7\n",
        "\n",
        "def print_data(data,max_number):\n",
        "  print(\"\\t\",end=\"\")\n",
        "  for i in range(max_number):\n",
        "    print(\"[%2d]\"%data[i],end=\"\")\n",
        "  print()\n",
        "\n",
        "def create_table(num,index):\n",
        "  tmp=num%INDEXBOX\n",
        "  while True:\n",
        "    if index[tmp]==-1:\n",
        "      index[tmp]=num\n",
        "      break\n",
        "    else:\n",
        "      tmp=(tmp+1)%INDEXBOX\n",
        "\n",
        "#Main\n",
        "index=[None]*INDEXBOX\n",
        "data=[None]*MAXNUM\n",
        "\n",
        "print('原始陣列值')\n",
        "for i in range(MAXNUM):\n",
        "  data[i]=random.randint(1,20)\n",
        "for i in range(INDEXBOX):\n",
        "  index[i]=-1\n",
        "print_data(data,MAXNUM)\n",
        "print('雜湊表內容')\n",
        "for i in range(MAXNUM):\n",
        "    create_table(data[i],index)\n",
        "    print('%2d=>'%data[i],end='')\n",
        "    print_data(index,INDEXBOX)\n",
        "print('完成雜湊表')\n",
        "print_data(index,INDEXBOX)"
      ],
      "execution_count": 6,
      "outputs": [
        {
          "output_type": "stream",
          "text": [
            "原始陣列值\n",
            "\t[16][17][ 9][ 6][ 2][15][ 9]\n",
            "雜湊表內容\n",
            "16=>\t[-1][-1][-1][-1][-1][-1][16][-1][-1][-1]\n",
            "17=>\t[-1][-1][-1][-1][-1][-1][16][17][-1][-1]\n",
            " 9=>\t[-1][-1][-1][-1][-1][-1][16][17][-1][ 9]\n",
            " 6=>\t[-1][-1][-1][-1][-1][-1][16][17][ 6][ 9]\n",
            " 2=>\t[-1][-1][ 2][-1][-1][-1][16][17][ 6][ 9]\n",
            "15=>\t[-1][-1][ 2][-1][-1][15][16][17][ 6][ 9]\n",
            " 9=>\t[ 9][-1][ 2][-1][-1][15][16][17][ 6][ 9]\n",
            "完成雜湊表\n",
            "\t[ 9][-1][ 2][-1][-1][15][16][17][ 6][ 9]\n"
          ],
          "name": "stdout"
        }
      ]
    },
    {
      "cell_type": "code",
      "metadata": {
        "id": "475oT7vYBDi2",
        "outputId": "e778ceab-2ceb-474a-944c-d005bb052545",
        "colab": {
          "base_uri": "https://localhost:8080/",
          "height": 217
        }
      },
      "source": [
        "#平⽅探測 ( quadratic probing ) \n",
        "import random\n",
        "\n",
        "INDEXBOX=10\n",
        "MAXNUM=7\n",
        "\n",
        "def print_data(data,max_number):\n",
        "  print(\"\\t\",end=\"\")\n",
        "  for i in range(max_number):\n",
        "    print(\"[%2d]\"%data[i],end=\"\")\n",
        "  print()\n",
        "\n",
        "def create_table(num,index):\n",
        "  tmp=num%INDEXBOX\n",
        "  n=0\n",
        "  while True:\n",
        "                 \n",
        "    if index[tmp]==-1:\n",
        "      index[tmp]=num\n",
        "      break\n",
        "    else:\n",
        "      tmp=num%INDEXBOX   #讓餘數回歸到原本的餘數\n",
        "      if (n==0):\n",
        "        n=n+1\n",
        "        tmp=(tmp+n**2)%INDEXBOX\n",
        "        #tmp=((tmp%INDEXBOX)+n**2)%INDEXBOX   #先取餘數在加碰撞次數的平方\n",
        "        \n",
        "      else:\n",
        "        n=n+1\n",
        "        tmp=(tmp+n**2)%INDEXBOX\n",
        "        #tmp=((tmp%INDEXBOX)+n**2)%INDEXBOX\n",
        "        \n",
        "      \n",
        "\n",
        "#Main\n",
        "index=[None]*INDEXBOX\n",
        "data=[None]*MAXNUM\n",
        "\n",
        "print('原始陣列值')\n",
        "for i in range(MAXNUM):\n",
        "  data[i]=random.randint(1,20)\n",
        "for i in range(INDEXBOX):\n",
        "  index[i]=-1\n",
        "print_data(data,MAXNUM)\n",
        "print('雜湊表內容')\n",
        "for i in range(MAXNUM):\n",
        "    create_table(data[i],index)\n",
        "    print('%2d=>'%data[i],end='')\n",
        "    print_data(index,INDEXBOX)\n",
        "print('完成雜湊表')\n",
        "print_data(index,INDEXBOX)\n"
      ],
      "execution_count": 77,
      "outputs": [
        {
          "output_type": "stream",
          "text": [
            "原始陣列值\n",
            "\t[ 4][10][ 4][18][15][17][16]\n",
            "雜湊表內容\n",
            " 4=>\t[-1][-1][-1][-1][ 4][-1][-1][-1][-1][-1]\n",
            "10=>\t[10][-1][-1][-1][ 4][-1][-1][-1][-1][-1]\n",
            " 4=>\t[10][-1][-1][-1][ 4][ 4][-1][-1][-1][-1]\n",
            "18=>\t[10][-1][-1][-1][ 4][ 4][-1][-1][18][-1]\n",
            "15=>\t[10][-1][-1][-1][ 4][ 4][15][-1][18][-1]\n",
            "17=>\t[10][-1][-1][-1][ 4][ 4][15][17][18][-1]\n",
            "16=>\t[10][-1][16][-1][ 4][ 4][15][17][18][-1]\n",
            "完成雜湊表\n",
            "\t[10][-1][16][-1][ 4][ 4][15][17][18][-1]\n"
          ],
          "name": "stdout"
        }
      ]
    },
    {
      "cell_type": "code",
      "metadata": {
        "id": "7bkSlflwEAzR",
        "outputId": "074daf82-31f7-4b76-9b94-8811cf27877f",
        "colab": {
          "base_uri": "https://localhost:8080/",
          "height": 217
        }
      },
      "source": [
        "# 再雜湊 ( rehashing ) \n",
        "import random\n",
        "\n",
        "INDEXBOX=10\n",
        "MAXNUM=7\n",
        "\n",
        "def print_data(data,max_number):\n",
        "  print(\"\\t\",end=\"\")\n",
        "  for i in range(max_number):\n",
        "    print(\"[%2d]\"%data[i],end=\"\")\n",
        "  print()\n",
        "\n",
        "def create_table(num,index):\n",
        "  tmp=num%INDEXBOX\n",
        "  n=0\n",
        "  while True:\n",
        "                 \n",
        "    if index[tmp]==-1:\n",
        "      index[tmp]=num\n",
        "      break\n",
        "    else:\n",
        "      tmp=num%INDEXBOX   #讓餘數回歸到原本的餘數\n",
        "      if (n==0):\n",
        "        n=n+1\n",
        "        tmp=(tmp+2*n)%INDEXBOX  #改成2*n\n",
        "        #tmp=((tmp%INDEXBOX)+n**2)%INDEXBOX   \n",
        "        \n",
        "      else:\n",
        "        n=n+1\n",
        "        tmp=(tmp+2*n)%INDEXBOX\n",
        "        #tmp=((tmp%INDEXBOX)+n**2)%INDEXBOX\n",
        "        \n",
        "      \n",
        "\n",
        "#Main\n",
        "index=[None]*INDEXBOX\n",
        "data=[None]*MAXNUM\n",
        "\n",
        "print('原始陣列值')\n",
        "for i in range(MAXNUM):\n",
        "  data[i]=random.randint(1,20)\n",
        "for i in range(INDEXBOX):\n",
        "  index[i]=-1\n",
        "print_data(data,MAXNUM)\n",
        "print('雜湊表內容')\n",
        "for i in range(MAXNUM):\n",
        "    create_table(data[i],index)\n",
        "    print('%2d=>'%data[i],end='')\n",
        "    print_data(index,INDEXBOX)\n",
        "print('完成雜湊表')\n",
        "print_data(index,INDEXBOX)\n"
      ],
      "execution_count": 74,
      "outputs": [
        {
          "output_type": "stream",
          "text": [
            "原始陣列值\n",
            "\t[ 6][11][17][ 3][11][13][18]\n",
            "雜湊表內容\n",
            " 6=>\t[-1][-1][-1][-1][-1][-1][ 6][-1][-1][-1]\n",
            "11=>\t[-1][11][-1][-1][-1][-1][ 6][-1][-1][-1]\n",
            "17=>\t[-1][11][-1][-1][-1][-1][ 6][17][-1][-1]\n",
            " 3=>\t[-1][11][-1][ 3][-1][-1][ 6][17][-1][-1]\n",
            "11=>\t[-1][11][-1][ 3][-1][11][ 6][17][-1][-1]\n",
            "13=>\t[-1][11][-1][ 3][-1][11][ 6][17][-1][13]\n",
            "18=>\t[-1][11][-1][ 3][-1][11][ 6][17][18][13]\n",
            "完成雜湊表\n",
            "\t[-1][11][-1][ 3][-1][11][ 6][17][18][13]\n"
          ],
          "name": "stdout"
        }
      ]
    }
  ]
}